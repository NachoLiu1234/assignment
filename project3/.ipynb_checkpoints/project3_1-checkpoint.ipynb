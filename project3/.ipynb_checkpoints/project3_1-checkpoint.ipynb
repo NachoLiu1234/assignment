{
 "cells": [
  {
   "cell_type": "code",
   "execution_count": 2,
   "metadata": {},
   "outputs": [],
   "source": [
    "import sklearn, os, json, pickle, time, jieba, gensim, random\n",
    "from scipy.spatial.distance import cosine\n",
    "from collections import Counter\n",
    "import pandas as pd\n",
    "import numpy as np\n",
    "from Bio.Cluster import kcluster\n",
    "from gensim.models import Word2Vec\n",
    "import matplotlib.pyplot as plt\n",
    "from sklearn.decomposition import PCA\n",
    "%matplotlib inline\n",
    "import requests"
   ]
  },
  {
   "cell_type": "code",
   "execution_count": 3,
   "metadata": {},
   "outputs": [],
   "source": [
    "content = pd.read_csv('qa_corpus.csv')\n",
    "content = content.dropna(axis=0)\n",
    "content = content.to_dict()\n",
    "_q, _a = list(content['q'].values()), list(content['a'].values())\n",
    "content = list(zip(content['q'].values(), list(content['a'].values())))"
   ]
  },
  {
   "cell_type": "code",
   "execution_count": 4,
   "metadata": {},
   "outputs": [],
   "source": [
    "stop_words = set([el.strip() for el in open('百度停用词表.txt', 'r', encoding='utf8').readlines()])"
   ]
  },
  {
   "cell_type": "code",
   "execution_count": 5,
   "metadata": {},
   "outputs": [],
   "source": [
    "word2vec = gensim.models.KeyedVectors.load_word2vec_format('cn.cbow.bin', binary=True, unicode_errors='ignore')"
   ]
  },
  {
   "cell_type": "code",
   "execution_count": 6,
   "metadata": {},
   "outputs": [
    {
     "name": "stderr",
     "output_type": "stream",
     "text": [
      "Building prefix dict from the default dictionary ...\n",
      "Loading model from cache C:\\Users\\NACHOL~1\\AppData\\Local\\Temp\\jieba.cache\n",
      "Loading model cost 0.595 seconds.\n",
      "Prefix dict has been built successfully.\n",
      "C:\\Anaconda3\\lib\\site-packages\\ipykernel_launcher.py:1: DeprecationWarning: Call to deprecated `wv` (Attribute will be removed in 4.0.0, use self instead).\n",
      "  \"\"\"Entry point for launching an IPython kernel.\n"
     ]
    }
   ],
   "source": [
    "question = [[word2vec.wv[e] for e in jieba.lcut(el) if e not in stop_words and e in word2vec.wv.vocab] for el in _q]"
   ]
  },
  {
   "cell_type": "code",
   "execution_count": 7,
   "metadata": {},
   "outputs": [],
   "source": [
    "question_word = [[e for e in jieba.lcut(el) if e not in stop_words] for el in _q]"
   ]
  },
  {
   "cell_type": "code",
   "execution_count": 8,
   "metadata": {},
   "outputs": [
    {
     "name": "stderr",
     "output_type": "stream",
     "text": [
      "C:\\Anaconda3\\lib\\site-packages\\ipykernel_launcher.py:2: DeprecationWarning: Call to deprecated `wv` (Attribute will be removed in 4.0.0, use self instead).\n",
      "  \n",
      "C:\\Anaconda3\\lib\\site-packages\\ipykernel_launcher.py:9: DeprecationWarning: Call to deprecated `wv` (Attribute will be removed in 4.0.0, use self instead).\n",
      "  if __name__ == '__main__':\n"
     ]
    },
    {
     "data": {
      "text/plain": [
       "['网', '银盾']"
      ]
     },
     "execution_count": 8,
     "metadata": {},
     "output_type": "execute_result"
    }
   ],
   "source": [
    "def cut_again(w, return_vec=True):\n",
    "    if w in word2vec.wv.vocab:\n",
    "        if return_vec:\n",
    "            return [word2vec.wv[w]]\n",
    "        return [w]\n",
    "    else:\n",
    "        for i in range(len(w) - 1):\n",
    "            i += 1\n",
    "            if w[:i] in word2vec.wv.vocab and w[i:] in word2vec.wv.vocab:\n",
    "                if return_vec:\n",
    "                    return [word2vec.wv[w[:i]], word2vec.wv[w[i:]]]\n",
    "                return [w[:i], w[i:]]\n",
    "        if return_vec:\n",
    "            return None\n",
    "        return None\n",
    "cut_again('网银盾', 0)       "
   ]
  },
  {
   "cell_type": "code",
   "execution_count": 9,
   "metadata": {},
   "outputs": [
    {
     "name": "stderr",
     "output_type": "stream",
     "text": [
      "C:\\Anaconda3\\lib\\site-packages\\ipykernel_launcher.py:5: DeprecationWarning: Call to deprecated `wv` (Attribute will be removed in 4.0.0, use self instead).\n",
      "  \"\"\"\n",
      "C:\\Anaconda3\\lib\\site-packages\\ipykernel_launcher.py:2: DeprecationWarning: Call to deprecated `wv` (Attribute will be removed in 4.0.0, use self instead).\n",
      "  \n",
      "C:\\Anaconda3\\lib\\site-packages\\ipykernel_launcher.py:9: DeprecationWarning: Call to deprecated `wv` (Attribute will be removed in 4.0.0, use self instead).\n",
      "  if __name__ == '__main__':\n"
     ]
    }
   ],
   "source": [
    "question = []\n",
    "for sentence in question_word:\n",
    "    s = []\n",
    "    for w in sentence:\n",
    "        if w in word2vec.wv.vocab:\n",
    "            s.append(w)\n",
    "        else:\n",
    "            vec = cut_again(w, False)\n",
    "            if vec:\n",
    "                s.extend(vec)\n",
    "    question.append(s)"
   ]
  },
  {
   "cell_type": "code",
   "execution_count": 10,
   "metadata": {},
   "outputs": [
    {
     "data": {
      "text/plain": [
       "[['补发', '网', '银盾'],\n",
       " ['代发', '工资'],\n",
       " ['帐单', '查询', '打印'],\n",
       " ['理财产品', '取', '号'],\n",
       " ['密码', '修改'],\n",
       " ['查询', '名下', '账户'],\n",
       " ['交易', '流水', '明细', '证明'],\n",
       " ['结售汇'],\n",
       " ['现金', '取款'],\n",
       " ['账户', '销户']]"
      ]
     },
     "execution_count": 10,
     "metadata": {},
     "output_type": "execute_result"
    }
   ],
   "source": [
    "question[:10]"
   ]
  },
  {
   "cell_type": "code",
   "execution_count": 11,
   "metadata": {},
   "outputs": [],
   "source": [
    "def get_sentenses_vector(sentences, word2vec=word2vec, alpha=1e-3, u=None):\n",
    "    vlookup = word2vec.wv.vocab  # Gives us access to word index and count\n",
    "    Z = 0\n",
    "    for k in vlookup:\n",
    "        Z += vlookup[k].count # Compute the normalization constant Z\n",
    "        \n",
    "    def sif_embeddings(sentences, word2vec, alpha=alpha, Z=Z):\n",
    "\n",
    "        vlookup = word2vec.wv.vocab  # Gives us access to word index and count\n",
    "        vectors = word2vec.wv        # Gives us access to word vectors\n",
    "        size = word2vec.vector_size  # Embedding size\n",
    "\n",
    "        output = []\n",
    "\n",
    "        # Iterate all sentences\n",
    "        for s in sentences:\n",
    "            count = 0\n",
    "            v = np.zeros(size, dtype=np.float32) # Summary vector\n",
    "            # Iterare all words\n",
    "            for w in s:\n",
    "                # A word must be present in the vocabulary\n",
    "                if w in vlookup:\n",
    "                    v += ( alpha / (alpha + (vlookup[w].count / Z))) * vectors[w]\n",
    "                    count += 1 \n",
    "            if count > 0:\n",
    "                v /= count\n",
    "            output.append(v)\n",
    "        return np.vstack(output).astype(np.float32 )\n",
    "    vector = sif_embeddings(sentences, word2vec)\n",
    "    if u is None:\n",
    "        pca = PCA(1)\n",
    "        pca.fit(vector)\n",
    "        u = pca.components_[0]\n",
    "    vector -= np.multiply(np.multiply(u, u.T), vector)\n",
    "    return vector, u"
   ]
  },
  {
   "cell_type": "code",
   "execution_count": 12,
   "metadata": {},
   "outputs": [
    {
     "name": "stderr",
     "output_type": "stream",
     "text": [
      "C:\\Anaconda3\\lib\\site-packages\\ipykernel_launcher.py:2: DeprecationWarning: Call to deprecated `wv` (Attribute will be removed in 4.0.0, use self instead).\n",
      "  \n",
      "C:\\Anaconda3\\lib\\site-packages\\ipykernel_launcher.py:9: DeprecationWarning: Call to deprecated `wv` (Attribute will be removed in 4.0.0, use self instead).\n",
      "  if __name__ == '__main__':\n",
      "C:\\Anaconda3\\lib\\site-packages\\ipykernel_launcher.py:10: DeprecationWarning: Call to deprecated `wv` (Attribute will be removed in 4.0.0, use self instead).\n",
      "  # Remove the CWD from sys.path while we load stuff.\n"
     ]
    }
   ],
   "source": [
    "question_vec, u = get_sentenses_vector(question)"
   ]
  },
  {
   "cell_type": "code",
   "execution_count": 13,
   "metadata": {},
   "outputs": [
    {
     "name": "stdout",
     "output_type": "stream",
     "text": [
      "17193.864719937636 1\n"
     ]
    }
   ],
   "source": [
    "category = 4\n",
    "clusterid, error, nfound = kcluster(question_vec, category, dist='u',npass=100)\n",
    "print(error, nfound)"
   ]
  },
  {
   "cell_type": "code",
   "execution_count": 14,
   "metadata": {},
   "outputs": [],
   "source": [
    "dic = {i: [] for i in range(category)}\n",
    "for i, c in enumerate(clusterid):\n",
    "    dic[c].append(i)"
   ]
  },
  {
   "cell_type": "code",
   "execution_count": 15,
   "metadata": {
    "scrolled": false
   },
   "outputs": [
    {
     "name": "stdout",
     "output_type": "stream",
     "text": [
      "sif + 余弦距离聚类效果:\n",
      "\n",
      "category: 0\n",
      "什么时候出生是摩羯座\n",
      "因为我是人工智能的产物\n",
      "中华民族的民族精神\n",
      "打酱油好玩吗\n",
      "怎么过圣诞\n",
      "你有父母么\n",
      "你知道这附近有哪些好玩的吗\n",
      "暗恋是什么感觉\n",
      "那我应该怎么办呢\n",
      "儿童\n",
      "六道骸?\n",
      "败絮其中\n",
      "晚间新闻\n",
      "你是人工智能么\n",
      "我怀疑你是男的哦\n",
      "你比猪八戒还要蠢\n",
      "你怎么这么笨\n",
      "过端午节可以干什么\n",
      "我打李新明\n",
      "你不听话\n",
      "那就这样吧\n",
      "好孩子\n",
      "你喜欢钓鱼吗\n",
      "那场比赛是我输了\n",
      "两弹一星分别是什么\n",
      "闯红灯违法吗\n",
      "你在学校开心吗\n",
      "不要打我\n",
      "你姐姐是谁\n",
      "那我们谈恋爱吧\n",
      "####################################################################################################\n",
      "category: 1\n",
      "你咋不呼叫了呢\n",
      "你会不舒服吗\n",
      "都谁教你这么贫的\n",
      "些\n",
      "你再学我就打你了\n",
      "帮我弄一个qq好吗\n",
      "总觉得现在的工作不适合我\n",
      "书法有哪些种类\n",
      "希望改变自己的什么？\n",
      "你为什么喜欢过年\n",
      "过一场生日的价格是多少\n",
      "真棒讲的真好\n",
      "今天干了点啥\n",
      "这是你的吗\n",
      "这些都不关你的事\n",
      "看看你行吗\n",
      "这么辛苦啊你\n",
      "字怎么写得这么难看\n",
      "朋友你真是有才\n",
      "不要谢\n",
      "好迪真好\n",
      "被人相信的感觉真的好好啊。\n",
      "你靓不靓\n",
      "哇一米多高啊\n",
      "您喜欢什么娱乐活动呢？\n",
      "你认为在恋爱中谁会占主导地位，为什么？\n",
      "可不可以快一点\n",
      "你可会加减乘除\n",
      "换一个笑话。\n",
      "将来会怎样\n",
      "####################################################################################################\n",
      "category: 2\n",
      "年金保险产品介绍\n",
      "小麦。\n",
      "个人网银购买理财产品\n",
      "手机银行如何查询持有基金\n",
      "跨行转账如何选择收款账户所属银行及开户行\n",
      "一般转账的收款账户限制\n",
      "flashget\n",
      "今天能洗车吗？\n",
      "离线缴税\n",
      "我怎样查询信用卡积分？ \n",
      "什么是现汇账户\n",
      "短信通知余额提醒\n",
      "如何查询综合积分礼品兑换目录\n",
      "广场\n",
      "活期存款\n",
      "能不能刷卡\n",
      "两年的港币整存整取利率是多少\n",
      "普通版网上银行修改网上支付功能的指引\n",
      "退税一般需要多久才能完成\n",
      "网银实物黄金（交易金）提货申请如何撤消\n",
      "如何定制电话银行快捷菜单\n",
      "社会医保中哪些费用可以在建信人寿申请赔付\n",
      "手机银行能否购买保险\n",
      "补发网银盾\n",
      "善融商务客服热线及服务时间\n",
      "开户许可证介绍\n",
      "如何变更个人贷款的宽限期\n",
      "贷款其他还款方式\n",
      "“教育慧民”方案适合哪些客户？\n",
      "哪国最早创建信用社\n",
      "####################################################################################################\n",
      "category: 3\n",
      "一起去玩Cosplay\n",
      "你好好问问自己吧\n",
      "帮我订张机票\n",
      "我要骂你\n",
      "我妈妈刚刚骂我\n",
      "郁闷拉\n",
      "对你没用吗\n",
      "跟我回家\n",
      "我马上就来\n",
      "谢谢你帮我解决问题\n",
      "我出去玩的时候要不要带上你呢\n",
      "我教你问问题吧\n",
      "睡着呢\n",
      "躺着看\n",
      "你睡午觉了吗\n",
      "我明明\n",
      "能陪我一起去旅游吗\n",
      "见你一次打你一次\n",
      "我居然和机器人聊了半天\n",
      "答得牛头不对马尾\n",
      "我要吃了你\n",
      "拜托我是问你年龄\n",
      "昨天不是教过你了吗\n",
      "你能不能不要那么任性啊\n",
      "可以说笑吗\n",
      "弄完了\n",
      "那你请假吗\n",
      "你倒底有没有听懂我说话\n",
      "嘿毛呀\n",
      "必须记住\n",
      "####################################################################################################\n"
     ]
    }
   ],
   "source": [
    "print('sif + 余弦距离聚类效果:\\n')\n",
    "for k, v in dic.items():\n",
    "    if v:\n",
    "        print('category:', k)\n",
    "        index_list = random.sample(v, 30)\n",
    "        for i in index_list:\n",
    "            print(_q[i])\n",
    "        print('#' * 100)"
   ]
  },
  {
   "cell_type": "code",
   "execution_count": 16,
   "metadata": {},
   "outputs": [],
   "source": [
    "def get_the_cluster_center(sentences):\n",
    "    v= np.zeros(sentences[0].shape)\n",
    "    for el in sentences:\n",
    "        v += el\n",
    "    v /= len(sentences)\n",
    "    return v"
   ]
  },
  {
   "cell_type": "code",
   "execution_count": 17,
   "metadata": {
    "scrolled": true
   },
   "outputs": [],
   "source": [
    "center = {}\n",
    "for k, v in dic.items():\n",
    "    if v:\n",
    "        center[k] = get_the_cluster_center([question_vec[el] for el in v])"
   ]
  },
  {
   "cell_type": "markdown",
   "metadata": {},
   "source": [
    "检查样本和我计算的中心点的cosine距离"
   ]
  },
  {
   "cell_type": "code",
   "execution_count": 18,
   "metadata": {
    "scrolled": true
   },
   "outputs": [
    {
     "name": "stdout",
     "output_type": "stream",
     "text": [
      "category: 0\n",
      "0 元宵节祝福\n",
      "0 个性\n",
      "0 你傻冒\n",
      "0 你能够抵挡黑客攻击么\n",
      "0 中国在机器人足球国际赛场上金牌零的突破是在哪一年\n",
      "0 中华人民共和国国旗五星红旗的设计者是谁\n",
      "0 你男朋友做什么的\n",
      "0 您捶啊\n",
      "0 浮游城\n",
      "0 冬至一定要吃什么\n",
      "####################################################################################################\n",
      "category: 1\n",
      "1 苦逼的人生呀\n",
      "1 今天很烦\n",
      "1 你有什么优点？\n",
      "1 时间是最好的橡皮擦！\n",
      "1 被人爱\n",
      "1 你一天有哪些工作\n",
      "1 数学好吗\n",
      "1 这边有一个\n",
      "1 我美吗？\n",
      "1 我要去洗下头发\n",
      "####################################################################################################\n",
      "category: 2\n",
      "2 如何查询（修改）信用记录（报告）\n",
      "2 商城中分期的商品是否有手续费和利息？分期还款是什么时候？\n",
      "2 善融商务中购买商品是否收取送货费\n",
      "2 数字医院主要服务什么？\n",
      "2 结算通卡能否开通手机银行\n",
      "2 电子商业汇票追索介绍\n",
      "2 信用卡账单分期能否累计积分\n",
      "2 如何使用手机银行“日历”功能\n",
      "2 我家在XXXXX\n",
      "2 借记卡申领\n",
      "####################################################################################################\n",
      "category: 3\n",
      "3 最长多长时间\n",
      "3 您想问啥\n",
      "3 好啊，有什么好吃的招待\n",
      "3 他咋样\n",
      "3 请注意你的仪态\n",
      "3 貌似不错\n",
      "3 好了不能跟你這種白癡聊我走了?\n",
      "0 后来呢\n",
      "0 BOC\n",
      "3 楼下有咖啡厅吗\n",
      "####################################################################################################\n"
     ]
    },
    {
     "name": "stderr",
     "output_type": "stream",
     "text": [
      "C:\\Anaconda3\\lib\\site-packages\\scipy\\spatial\\distance.py:702: RuntimeWarning: invalid value encountered in double_scalars\n",
      "  dist = 1.0 - uv / np.sqrt(uu * vv)\n"
     ]
    }
   ],
   "source": [
    "for k, v in dic.items():\n",
    "    print('category:', k)\n",
    "    index_list = random.sample(v, 10)\n",
    "    vec_list = [(_q[el], question_vec[el]) for el in index_list]\n",
    "    for sentence, el in vec_list:\n",
    "        cosine_distance = [cosine(el, center[0]), cosine(el, center[1]), cosine(el, center[2]), cosine(el, center[3])]\n",
    "        print(cosine_distance.index(min(cosine_distance)), sentence)\n",
    "    print('#' * 100)"
   ]
  },
  {
   "cell_type": "code",
   "execution_count": 20,
   "metadata": {},
   "outputs": [],
   "source": [
    "content_dict = {i: [q, sentence_vec, a] for i, ((q, a), sentence_vec) in enumerate(zip(content, question_vec))}"
   ]
  },
  {
   "cell_type": "code",
   "execution_count": 21,
   "metadata": {},
   "outputs": [
    {
     "data": {
      "text/plain": [
       "['园区介绍',\n",
       " array([ 4.45342697e-02,  2.71084700e-02, -3.28355171e-02,  8.13645776e-03,\n",
       "         1.49567589e-01, -7.51185371e-03, -8.28081742e-02, -1.10379979e-01,\n",
       "         1.53177902e-01,  1.18086264e-01,  1.42130312e-02,  3.41181904e-02,\n",
       "         1.66453108e-01,  2.46002693e-02, -2.94489376e-02,  7.16126412e-02,\n",
       "        -9.53726619e-02, -7.68371075e-02, -1.39072165e-01,  8.36441442e-02,\n",
       "         8.71790573e-03, -1.02977589e-01, -3.20080034e-02, -8.69897902e-02,\n",
       "        -7.57195204e-02,  2.97566373e-02, -1.38453886e-01,  9.67052132e-02,\n",
       "        -9.08291936e-02, -3.97544261e-03, -7.77133834e-03,  1.03140466e-01,\n",
       "        -9.52428281e-02,  3.99576558e-04,  9.65967700e-02,  2.49986768e-01,\n",
       "         4.76463139e-02, -1.41869828e-01,  7.35575110e-02, -1.93315335e-02,\n",
       "        -1.07074142e-01,  1.16744041e-01,  9.64590907e-03, -1.07559957e-01,\n",
       "        -8.37540627e-02, -1.30868062e-01,  1.41344406e-02, -5.96195012e-02,\n",
       "         3.10243331e-02, -9.48195234e-02, -8.24166536e-02, -1.13492996e-01,\n",
       "         9.13233086e-02,  3.12347319e-02,  1.03872523e-01, -1.11167103e-01,\n",
       "         4.97982465e-02,  3.86059247e-02,  9.57262293e-02,  7.09070191e-02,\n",
       "         2.35473327e-02,  2.41579209e-02, -4.48548570e-02,  4.20710742e-02,\n",
       "        -9.40761194e-02, -1.65661667e-02, -1.75060093e-01,  1.69196110e-02,\n",
       "         2.74839811e-02, -1.86035991e-01,  1.20142870e-01, -1.42915931e-03,\n",
       "         2.44842563e-03,  1.10580958e-01,  6.33993968e-02,  6.33968338e-02,\n",
       "        -1.02207111e-02, -9.21388268e-02,  9.84294936e-02, -2.60640495e-02,\n",
       "        -6.83078468e-02,  1.12086780e-01,  2.64807530e-02,  4.14164513e-02,\n",
       "         6.27678707e-02,  1.41919866e-01, -1.17224790e-01, -1.66531116e-01,\n",
       "         1.02719516e-01,  1.93834603e-02,  5.51121458e-02, -1.23557910e-01,\n",
       "        -9.72957388e-02,  2.64002718e-02,  1.35643929e-01, -5.21038622e-02,\n",
       "        -7.24575445e-02, -1.25259802e-01,  1.64087161e-01,  6.29227161e-02,\n",
       "        -1.19296767e-01, -6.13864213e-02, -2.93244459e-02,  5.11468714e-03,\n",
       "         1.63315341e-01, -1.01850800e-01,  8.74417871e-02, -1.34063423e-01,\n",
       "         4.14617881e-02, -6.47032484e-02,  3.67883965e-02, -4.48431037e-02,\n",
       "         1.27976060e-01,  1.06346719e-01,  4.12886143e-02, -1.40309900e-01,\n",
       "         1.64573103e-01,  3.12211402e-02, -3.43632582e-03, -9.64862853e-02,\n",
       "         3.00206039e-02, -2.41238564e-01, -1.27541780e-01, -5.06828800e-02,\n",
       "         3.35051604e-02,  8.19266438e-02,  1.93581209e-01,  1.12613074e-01,\n",
       "         4.62803878e-02,  3.05308378e-03,  9.70258266e-02, -1.38680935e-02,\n",
       "         2.84593552e-02, -1.84916500e-02,  4.63097505e-02, -1.49133205e-01,\n",
       "         1.14323609e-01, -3.05125993e-02,  9.05914232e-02, -6.56482503e-02,\n",
       "        -6.48017600e-02,  1.33839212e-02,  4.39451113e-02, -1.50812026e-02,\n",
       "        -2.04404294e-01, -3.71287577e-02, -5.47344945e-02, -1.97657168e-01,\n",
       "         1.36942882e-02,  1.36374816e-01,  2.60952532e-01,  9.01661217e-02,\n",
       "        -1.13761052e-01,  5.71517833e-02,  1.17978722e-01, -1.78239495e-01,\n",
       "        -5.29893525e-02,  2.76475418e-02, -5.44390641e-02, -7.76291117e-02,\n",
       "         2.20612274e-03,  8.13161880e-02,  1.28256530e-02, -6.48281202e-02,\n",
       "         5.07315733e-02, -1.07943051e-01,  2.73507908e-02,  1.77463785e-01,\n",
       "         3.95583222e-03, -4.59455885e-02, -8.24146718e-02, -8.07465911e-02,\n",
       "         3.79529372e-02, -1.53509811e-01,  5.40631078e-02, -1.08236857e-01,\n",
       "        -3.99016589e-02,  1.03706449e-01, -2.60160547e-02,  8.15261900e-03,\n",
       "        -1.60058755e-02, -9.52809278e-05,  1.39881624e-03, -7.32641071e-02,\n",
       "         2.68253107e-02, -1.47738308e-03, -1.89548358e-01, -5.82950003e-02,\n",
       "        -7.39075476e-03,  4.88433503e-02,  1.85723484e-01, -2.84150243e-03,\n",
       "         2.83178315e-02,  2.06589065e-02,  1.78146996e-02, -6.12194650e-02,\n",
       "         1.32019427e-02,  7.97467772e-03, -2.16162410e-02, -6.01401404e-02,\n",
       "        -4.56284434e-02,  9.59421471e-02, -3.46876420e-02, -3.47001292e-02,\n",
       "        -8.28472972e-02,  7.67236650e-02, -4.54077683e-02, -1.20468140e-01,\n",
       "         5.85247874e-02,  1.52624175e-02, -7.25215524e-02,  1.03569888e-01,\n",
       "        -4.10559028e-02, -1.25176445e-01, -1.03470579e-01, -1.00641735e-01,\n",
       "        -2.45298762e-02, -4.90449369e-02, -1.58473868e-02,  1.16494194e-01,\n",
       "         4.88772579e-02, -8.32502097e-02,  1.09976158e-01, -1.87554717e-01,\n",
       "        -1.02434885e-02,  1.75480470e-01, -1.06112726e-01, -3.95089090e-02,\n",
       "        -1.07228020e-02, -9.14379284e-02, -3.07303984e-02, -5.50365411e-02,\n",
       "        -3.80640440e-02, -2.51333266e-02, -1.01043113e-01, -6.00961782e-02,\n",
       "         7.98111632e-02,  3.42613645e-02, -3.64425778e-02, -1.29751682e-01,\n",
       "         9.63421986e-02,  1.27625734e-01, -8.48323479e-02,  8.19059322e-04,\n",
       "         2.07501158e-01,  3.90245393e-02, -3.99849527e-02,  1.08038643e-02,\n",
       "         3.46448496e-02,  1.22175798e-01,  5.75683713e-02, -2.55610254e-02,\n",
       "         1.12893179e-01,  4.57035340e-02,  1.02125496e-01, -2.72679348e-02,\n",
       "        -2.06939578e-02,  4.46574464e-02,  5.52056869e-03,  4.63249274e-02,\n",
       "         1.31197914e-01,  1.05839960e-01, -1.97630987e-01,  4.74331714e-03,\n",
       "        -1.82202876e-01, -2.21687052e-02, -4.75080721e-02,  3.82640399e-02,\n",
       "         5.14817610e-02, -6.49163947e-02, -9.23314840e-02, -3.67935374e-02,\n",
       "        -6.76427782e-02,  1.68139488e-02,  1.62056863e-01, -3.92821766e-02,\n",
       "         4.49768035e-04,  5.32734059e-02, -6.82072565e-02, -2.68147647e-01,\n",
       "        -4.03304026e-02, -1.02840453e-01, -1.04721393e-02,  5.81434518e-02,\n",
       "        -4.94658314e-02,  8.59891102e-02, -2.12036837e-02,  1.46311089e-01,\n",
       "        -8.39539915e-02, -1.37678400e-01,  1.17725350e-01, -9.64169800e-02,\n",
       "         8.96686539e-02, -1.92475796e-01, -1.43822894e-01,  2.99613215e-02,\n",
       "        -1.15061402e-01,  4.67003696e-02, -2.85421889e-02,  9.11551714e-02],\n",
       "       dtype=float32),\n",
       " '园区是集综合型、专业型、智能型于一体的金融后台园区，其主要特点是：以数据中心为主体，集IT运维、软件开发、后台业务处理、单证业务处理功能以及配套的各类会议、住宿、餐饮、安保等服务于一体，是支撑我行全球业务运转的主要基础设施，其安全、高效、稳定运行关乎全行发展战略和生产安全。']"
      ]
     },
     "execution_count": 21,
     "metadata": {},
     "output_type": "execute_result"
    }
   ],
   "source": [
    "content_dict[32510]"
   ]
  },
  {
   "cell_type": "code",
   "execution_count": 22,
   "metadata": {},
   "outputs": [],
   "source": [
    "word_list = sum(question_word, [])\n",
    "word_index = {word: [] for word in word_list}"
   ]
  },
  {
   "cell_type": "code",
   "execution_count": 23,
   "metadata": {},
   "outputs": [],
   "source": [
    "for i, word_list in enumerate(question_word):\n",
    "    for word in word_list:\n",
    "        if word in word_index:\n",
    "            word_index[word].append(i)"
   ]
  },
  {
   "cell_type": "code",
   "execution_count": 24,
   "metadata": {},
   "outputs": [
    {
     "data": {
      "text/plain": [
       "[0, 161, 720, 31956, 32396]"
      ]
     },
     "execution_count": 24,
     "metadata": {},
     "output_type": "execute_result"
    }
   ],
   "source": [
    "word_index['补发']"
   ]
  },
  {
   "cell_type": "code",
   "execution_count": 45,
   "metadata": {},
   "outputs": [],
   "source": [
    "sentence_index = {}\n",
    "threshold = 1024\n",
    "question_id_vec = {i: el for i, el in enumerate(question_vec)}\n",
    "\n",
    "def get_sentence_index(question_id_vec, key_list):\n",
    "    \n",
    "    question_id_vec_keys = list(question_id_vec.keys())  # [0, 9, 11, 45]\n",
    "    clusterid, error, nfound = kcluster(list(question_id_vec.values()), 4, dist='u',npass=100)\n",
    "    counts = Counter(clusterid)\n",
    "    for category, count in counts.items():\n",
    "        _question_id_vec_keys = set([key for key, _clusterid in zip(question_id_vec_keys, clusterid) if _clusterid == category])\n",
    "#         category_index_set = set([i for i, el in enumerate(clusterid) if el == category])  # {0, 1, 4, 5, 6, 8, 9}\n",
    "#         _question_id_vec_keys = set([el for i, el in enumerate(question_id_vec_keys) if i in category_index_set])\n",
    "#         assert _question_id_vec_keys == __question_id_vec_keys, 'asdfasdfasdfasdfasdf'\n",
    "        _question_id_vec = {k: v for k, v in question_id_vec.items() if k in _question_id_vec_keys}\n",
    "\n",
    "        vec_list = list(_question_id_vec.values())\n",
    "        center_vec = tuple(get_the_cluster_center(vec_list))\n",
    "        \n",
    "        _key_question_id_vec = sentence_index\n",
    "        for key in key_list:\n",
    "            _key_question_id_vec = _key_question_id_vec[key]\n",
    "        \n",
    "        if count > threshold:\n",
    "            print(count)\n",
    "            _key_question_id_vec[center_vec] = {}\n",
    "            get_sentence_index(_question_id_vec, key_list + [center_vec])\n",
    "        else:\n",
    "            _key_question_id_vec[center_vec] = list(_question_id_vec_keys)"
   ]
  },
  {
   "cell_type": "code",
   "execution_count": 46,
   "metadata": {
    "scrolled": false
   },
   "outputs": [
    {
     "name": "stdout",
     "output_type": "stream",
     "text": [
      "11289\n",
      "2979\n",
      "2978\n",
      "3031\n",
      "2301\n",
      "9326\n",
      "2188\n",
      "2465\n",
      "2789\n",
      "1325\n",
      "1884\n",
      "5143\n",
      "2019\n",
      "1347\n",
      "6767\n",
      "2310\n",
      "2184\n",
      "1421\n"
     ]
    }
   ],
   "source": [
    "get_sentence_index(question_id_vec, [])"
   ]
  },
  {
   "cell_type": "code",
   "execution_count": 71,
   "metadata": {
    "scrolled": false
   },
   "outputs": [
    {
     "name": "stdout",
     "output_type": "stream",
     "text": [
      "2 : 903\n",
      "2 : 540\n",
      "2 : 783\n",
      "2 : 753\n",
      "2 : 668\n",
      "2 : 628\n",
      "2 : 829\n",
      "2 : 853\n",
      "2 : 847\n",
      "2 : 863\n",
      "2 : 609\n",
      "2 : 712\n",
      "2 : 707\n",
      "2 : 463\n",
      "2 : 845\n",
      "2 : 286\n",
      "2 : 569\n",
      "2 : 874\n",
      "2 : 488\n",
      "2 : 257\n",
      "2 : 744\n",
      "2 : 764\n",
      "2 : 558\n",
      "2 : 399\n",
      "3 : 352\n",
      "3 : 223\n",
      "3 : 654\n",
      "3 : 96\n",
      "2 : 464\n",
      "2 : 500\n",
      "2 : 500\n",
      "2 : 582\n",
      "2 : 350\n",
      "2 : 325\n",
      "2 : 627\n",
      "2 : 613\n",
      "2 : 540\n",
      "2 : 555\n",
      "2 : 311\n",
      "2 : 332\n",
      "2 : 460\n",
      "2 : 297\n",
      "2 : 258\n",
      "1 : 950\n",
      "1 : 827\n",
      "2 : 637\n",
      "2 : 642\n",
      "2 : 599\n",
      "2 : 432\n",
      "1 : 852\n",
      "2 : 378\n",
      "2 : 561\n",
      "2 : 738\n",
      "2 : 507\n",
      "2 : 335\n",
      "2 : 379\n",
      "2 : 597\n",
      "2 : 110\n"
     ]
    }
   ],
   "source": [
    "def prin(sentence_index, i):\n",
    "    for k, v in sentence_index.items():\n",
    "        if type(v) == dict:\n",
    "            prin(v, i + 1)\n",
    "        else:\n",
    "            print(i, ':', len(v))\n",
    "prin(sentence_index, 0)"
   ]
  },
  {
   "cell_type": "code",
   "execution_count": 197,
   "metadata": {},
   "outputs": [],
   "source": [
    "def get_sentence_vec_u(sentence, u):\n",
    "    def cut_again(w, return_vec=False):\n",
    "        if w in word2vec.wv.vocab:\n",
    "            if return_vec:\n",
    "                return [word2vec.wv[w]]\n",
    "            return [w]\n",
    "        else:\n",
    "            for i in range(len(w) - 1):\n",
    "                i += 1\n",
    "                if w[:i] in word2vec.wv.vocab and w[i:] in word2vec.wv.vocab:\n",
    "                    if return_vec:\n",
    "                        return [word2vec.wv[w[:i]], word2vec.wv[w[i:]]]\n",
    "                    return [w[:i], w[i:]]\n",
    "            if return_vec:\n",
    "                return None\n",
    "            return None\n",
    "        \n",
    "    def get_sentence_vec(sentence_word_list, u, alpha=1e-3):\n",
    "        vlookup = word2vec.wv.vocab  # Gives us access to word index and count\n",
    "        vectors = word2vec.wv        # Gives us access to word vectors\n",
    "        size = word2vec.vector_size  # Embedding size\n",
    "        Z = 0\n",
    "        for k in vlookup:\n",
    "            Z += vlookup[k].count # Compute the normalization constant Z\n",
    "        count = 0\n",
    "        v = np.zeros(size, dtype=np.float32) # Summary vector\n",
    "        for w in sentence_word_list:\n",
    "            if w in vlookup:\n",
    "                v += (alpha / (alpha + (vlookup[w].count / Z))) * vectors[w]\n",
    "                count += 1 \n",
    "        if count > 0:\n",
    "            v /= count\n",
    "        v -= np.multiply(np.multiply(u, u.T), v)\n",
    "        return v\n",
    "        \n",
    "    s = []\n",
    "    for w in [e for e in jieba.lcut(sentence) if e not in stop_words]:\n",
    "        if w in word2vec.wv.vocab:\n",
    "            s.append(w)\n",
    "        else:\n",
    "            words = cut_again(w, False)\n",
    "            if words is not None:\n",
    "                s.extend(words)\n",
    "    sentence_vec = get_sentence_vec(s, u)\n",
    "    \n",
    "    return sentence_vec"
   ]
  },
  {
   "cell_type": "code",
   "execution_count": 97,
   "metadata": {},
   "outputs": [],
   "source": [
    "def get_10_vec(sentence, sentence_index):\n",
    "    sentence_vec = get_sentence_vec_u(sentence, u)\n",
    "    while 1:\n",
    "        if type(sentence_index) == dict:\n",
    "            distance = sorted([(cosine(k, sentence_vec), v) for k, v in sentence_index.items()], key=lambda x: x[0])\n",
    "            sentence_index = distance[0][1]\n",
    "        else:\n",
    "            sentence_list = sentence_index  # [10, 24589, 24590, 26641, 20, 21, 22, 23, 24602, 24605, ...]\n",
    "            break\n",
    "    similarity_list = [(sentence_id, cosine(content_dict[sentence_id][1], sentence_vec)) for sentence_id in sentence_list]\n",
    "    similarity_list = sorted(similarity_list, key=lambda x: x[1])\n",
    "    similarity_list = similarity_list[:10]\n",
    "    similarity_list = [content_dict[i[0]] for i in similarity_list]\n",
    "    return similarity_list"
   ]
  },
  {
   "cell_type": "code",
   "execution_count": 213,
   "metadata": {},
   "outputs": [],
   "source": [
    "def get_10_word(sentence, word_index, n=10):\n",
    "    sentence = [el for el in jieba.lcut(sentence) if el not in stop_words]\n",
    "    similarity_sentences = set(sum([word_index[word] for word in sentence if word in word_index], []))  # {16015, 16016, 20495,..}\n",
    "    similarity_sentences = [content_dict[el] for el in similarity_sentences]\n",
    "    random.shuffle(similarity_sentences)\n",
    "    similarity_sentences = [(similarity_sentence, len(set(sentence) & set([el for el in jieba.lcut(similarity_sentence[0]) if el not in stop_words]))) for similarity_sentence in similarity_sentences]\n",
    "    similarity_sentences = sorted(similarity_sentences, key=lambda x: x[1])[:n]\n",
    "    similarity_sentences = [el[0] for el in similarity_sentences]\n",
    "    return similarity_sentences"
   ]
  },
  {
   "cell_type": "code",
   "execution_count": 214,
   "metadata": {},
   "outputs": [
    {
     "name": "stdout",
     "output_type": "stream",
     "text": [
      "(0.007251556825472989, -0.03578881006509725, -0.004198648500922097, -0.014993346668505133, 0.006125576159038294, -0.047159025765702356, -0.00815700508406887, -0.059917636587682295, 0.09358155436239915, 0.016037753164907957, -0.04334697983523884, -0.0004120683979386997, 0.015234787523622345, 0.011328430526555112, -0.04679575556697047, 0.01970830682712139, -0.04226480140991886, -0.027740232060393975, -0.0028206794158207125, 0.0444531150912312, -0.05180890024589371, 0.024336792811110602, -0.045165106640602824, 0.031988889592018656, -0.04493665619664707, -0.010370208706053943, -0.04371441599918962, -0.03153986639824259, -0.02559948122880422, -0.03388404668167708, -0.02669680131213664, 0.07470535706142517, -0.06412229755075935, -0.025388148380635196, 0.030878696312355132, 0.11332641431435228, -0.014355638948641013, -0.017179489437837713, -0.024013266656595287, -0.12544092564351925, -0.0006127882507166399, -0.02043552514810774, 0.023812293188497556, -0.07068558646568512, -0.06107162254521964, -0.038834967476057344, -0.059257032801024456, 0.08379323652478186, -0.028999517853309318, -0.00400975671796284, 0.000759218510582938, 0.008601261702800856, 0.003316914715588399, -0.1242125417794263, -0.016288522226197512, 0.00019520291089652233, -0.01046884797249675, -0.0826888705550761, 0.031456465579784654, 0.06297601985020078, 0.01888696495734343, -0.009966640082171078, -0.042696265410029924, 0.03748410826543866, 0.010263746344731312, 0.025925084232333886, 0.03822944666247273, 0.009954209177661677, -0.03110043695964332, -0.04210792858405347, 0.01590459192052647, 0.03207632467520545, -0.0510828965446149, 0.032815898862885294, -0.0006862096014627771, -0.043633716516712745, 0.035895513866294804, 0.05565579030118109, 0.04206131654260145, 0.042221841833769286, -0.012655289143437061, -0.031277188345981366, 0.005263504203850987, 0.020106689608794345, 0.08319185325982982, -0.016092275741639437, -0.03862014576377242, 0.009818188314407858, 0.07966988736444419, -0.0203955972026009, -0.005504344404643587, 0.029332330735184382, -0.0502417095940903, -0.019251238223077515, 0.020113521771305227, -0.051347506140533225, -0.05163111580421589, -0.013614045846245426, 0.024625602008940706, 0.05434533013348808, -0.013551163052994602, -0.08890922134928245, -0.06048037319234706, 0.11319519071963798, 0.00016457188834874127, 0.08473153745764392, -0.03192928527157878, 0.08095525238095357, -0.0862768166554266, 0.009844078095358524, -0.006161218426427684, 0.048661789622079295, -0.0045876575741791775, 0.011933703656961394, -0.006540860967692174, 0.023360502480077303, 0.07792101580552682, 0.09336956715111273, -0.028969602961847172, 0.02670548268691429, -0.039187899685402705, -0.04153847678437111, -0.01056814872403892, 0.010580849154505327, -0.0010627771035765228, -0.046724657286785716, -0.009397915202396478, 0.05538341524430214, 0.03430896771839775, 0.0399343957884086, 0.03258947404407985, 0.08019752417288357, 0.042313266019355554, -0.027296764503745536, 0.08383263516675368, -0.10751418281773219, 0.022410963774804057, -0.08427585863462965, -0.027167343005832685, 0.0011303053012945677, -0.08067395552168473, 0.08194681502533585, -0.0744239352445942, -0.012221484378992075, -0.052547837943566614, 0.023150927998883946, 0.02065011795345933, -0.07853860132742155, -0.009696501040043937, -0.058498642778411915, 0.05628694478590305, -0.021310556594997934, -0.04758664173125768, 0.0015194939044870575, 0.05769949751223629, -0.0042902796592202445, 0.08624277514542143, -0.015411265528447722, 0.06565993873443081, 0.06719719863478955, 0.04793950310116987, 0.03621650025468067, -0.02505632101176515, -0.031031053181277926, -0.0533425903882154, -0.045159229514468255, 0.009209520108249044, 0.038176170696384286, 0.03137423883455809, 0.0014405418070535065, 0.04041419446890337, 0.04653616639026978, 0.041869716852386725, -0.008653517016339715, 0.06175922953874839, 0.032170848901264155, 0.03259298264463679, -0.00290215408908087, 0.01680549857906886, 0.07218155790234451, 0.08889628295279975, 0.032504775573804205, -0.04036915452676608, -0.061083675660208954, -0.028003408786397847, 0.058821458752284006, -0.05195994157856072, -0.004351994754004177, -0.009016894969830866, 0.026633790441909763, 0.11148543814197931, -0.03672305890384234, -0.006529903852860726, -0.11497252839438822, -0.007683700719945254, -0.031047320010288548, 0.020851816497316357, -0.013896013576493359, 0.004339421723289956, -0.03234003962364558, -0.021018518556911656, 0.04158976402965067, 0.0032580855181845833, -0.050312127182845695, 0.026246440766076365, 0.11392602558226288, 0.02238097776279663, 0.013387593093163997, -0.060402544717821194, -0.1058102658118682, -0.021726399167247005, 0.030215665846117415, 0.08679538087840474, -0.0047634276139174765, -0.049057265431107853, 0.06936396757636977, -0.12683696550528883, 0.010524735153967619, 0.06235872957087867, 0.041570992069102586, 0.05696232837332782, -0.013621192932796853, -0.021465157923502003, -0.08481537364353611, -0.0051253282865091725, 0.024577386655666986, -0.02237891104542795, 0.04861122140009159, -0.06520322860641324, 0.011348037402898059, -0.01224997237651745, -0.005415486214629347, 0.12900057696388825, -0.04424694380819421, -0.027861494873828645, -0.04055326020956216, 0.06393393741285396, 0.006188154299182819, 0.037552622889745, -0.004475973942108341, -0.013613584903881017, -0.0013852275723159968, -0.09266711674509158, -0.014104753147757288, 0.01988439756141075, -0.008796932525315668, -0.011617150296228432, 0.09665374773024735, 0.06326745909799344, -0.016128099782974827, 0.030088272828296014, -0.027434343432556824, -0.017503900575842522, 0.05433599321276299, -0.047659565547060564, 0.04906692709544276, 0.004335814869920424, -0.008414522333526075, 0.011189901103661038, 0.09261281058577354, -0.06601218030391207, -0.021758417069934165, -0.059065375207893345, 0.00896374241958348, -0.03175011906552384, 0.0015741971361628475, 0.06410941931939153, 0.04537227743809031, 0.009052404921376407, -0.002001733285647283, -0.07203862749169243, -0.05138281570185481, -0.03692554054984275, 0.0922562868228727, -0.009249855382067806, 0.015289690140784297, 0.060059352495133354, -0.014650897992901715, -0.042192589415743074, -0.10034377368538745, -0.058860274442684594, -0.010852867286821756, 0.09030525378584754, 0.021681377499326023, -0.031640024151322305, -0.021050647221264984, 0.022006217937185685, -0.046766191600236186, -0.1002737482529174, -0.024513455916478154, 0.014921890913599115, -0.020373601925891556, -0.0301275951113418, -0.07448219696604047, -0.008697869596388713, -0.09935055684488052, -0.032619861996771374, 0.030303708066910816, -0.02630171214865093, 0.009817507004420528)\n"
     ]
    }
   ],
   "source": [
    "bussiness_sentence_vec = (0.007251556825472989, -0.03578881006509725, -0.004198648500922097, -0.014993346668505133, 0.006125576159038294, -0.047159025765702356, -0.00815700508406887, -0.059917636587682295, 0.09358155436239915, 0.016037753164907957, -0.04334697983523884, -0.0004120683979386997, 0.015234787523622345, 0.011328430526555112, -0.04679575556697047, 0.01970830682712139, -0.04226480140991886, -0.027740232060393975, -0.0028206794158207125, 0.0444531150912312, -0.05180890024589371, 0.024336792811110602, -0.045165106640602824, 0.031988889592018656, -0.04493665619664707, -0.010370208706053943, -0.04371441599918962, -0.03153986639824259, -0.02559948122880422, -0.03388404668167708, -0.02669680131213664, 0.07470535706142517, -0.06412229755075935, -0.025388148380635196, 0.030878696312355132, 0.11332641431435228, -0.014355638948641013, -0.017179489437837713, -0.024013266656595287, -0.12544092564351925, -0.0006127882507166399, -0.02043552514810774, 0.023812293188497556, -0.07068558646568512, -0.06107162254521964, -0.038834967476057344, -0.059257032801024456, 0.08379323652478186, -0.028999517853309318, -0.00400975671796284, 0.000759218510582938, 0.008601261702800856, 0.003316914715588399, -0.1242125417794263, -0.016288522226197512, 0.00019520291089652233, -0.01046884797249675, -0.0826888705550761, 0.031456465579784654, 0.06297601985020078, 0.01888696495734343, -0.009966640082171078, -0.042696265410029924, 0.03748410826543866, 0.010263746344731312, 0.025925084232333886, 0.03822944666247273, 0.009954209177661677, -0.03110043695964332, -0.04210792858405347, 0.01590459192052647, 0.03207632467520545, -0.0510828965446149, 0.032815898862885294, -0.0006862096014627771, -0.043633716516712745, 0.035895513866294804, 0.05565579030118109, 0.04206131654260145, 0.042221841833769286, -0.012655289143437061, -0.031277188345981366, 0.005263504203850987, 0.020106689608794345, 0.08319185325982982, -0.016092275741639437, -0.03862014576377242, 0.009818188314407858, 0.07966988736444419, -0.0203955972026009, -0.005504344404643587, 0.029332330735184382, -0.0502417095940903, -0.019251238223077515, 0.020113521771305227, -0.051347506140533225, -0.05163111580421589, -0.013614045846245426, 0.024625602008940706, 0.05434533013348808, -0.013551163052994602, -0.08890922134928245, -0.06048037319234706, 0.11319519071963798, 0.00016457188834874127, 0.08473153745764392, -0.03192928527157878, 0.08095525238095357, -0.0862768166554266, 0.009844078095358524, -0.006161218426427684, 0.048661789622079295, -0.0045876575741791775, 0.011933703656961394, -0.006540860967692174, 0.023360502480077303, 0.07792101580552682, 0.09336956715111273, -0.028969602961847172, 0.02670548268691429, -0.039187899685402705, -0.04153847678437111, -0.01056814872403892, 0.010580849154505327, -0.0010627771035765228, -0.046724657286785716, -0.009397915202396478, 0.05538341524430214, 0.03430896771839775, 0.0399343957884086, 0.03258947404407985, 0.08019752417288357, 0.042313266019355554, -0.027296764503745536, 0.08383263516675368, -0.10751418281773219, 0.022410963774804057, -0.08427585863462965, -0.027167343005832685, 0.0011303053012945677, -0.08067395552168473, 0.08194681502533585, -0.0744239352445942, -0.012221484378992075, -0.052547837943566614, 0.023150927998883946, 0.02065011795345933, -0.07853860132742155, -0.009696501040043937, -0.058498642778411915, 0.05628694478590305, -0.021310556594997934, -0.04758664173125768, 0.0015194939044870575, 0.05769949751223629, -0.0042902796592202445, 0.08624277514542143, -0.015411265528447722, 0.06565993873443081, 0.06719719863478955, 0.04793950310116987, 0.03621650025468067, -0.02505632101176515, -0.031031053181277926, -0.0533425903882154, -0.045159229514468255, 0.009209520108249044, 0.038176170696384286, 0.03137423883455809, 0.0014405418070535065, 0.04041419446890337, 0.04653616639026978, 0.041869716852386725, -0.008653517016339715, 0.06175922953874839, 0.032170848901264155, 0.03259298264463679, -0.00290215408908087, 0.01680549857906886, 0.07218155790234451, 0.08889628295279975, 0.032504775573804205, -0.04036915452676608, -0.061083675660208954, -0.028003408786397847, 0.058821458752284006, -0.05195994157856072, -0.004351994754004177, -0.009016894969830866, 0.026633790441909763, 0.11148543814197931, -0.03672305890384234, -0.006529903852860726, -0.11497252839438822, -0.007683700719945254, -0.031047320010288548, 0.020851816497316357, -0.013896013576493359, 0.004339421723289956, -0.03234003962364558, -0.021018518556911656, 0.04158976402965067, 0.0032580855181845833, -0.050312127182845695, 0.026246440766076365, 0.11392602558226288, 0.02238097776279663, 0.013387593093163997, -0.060402544717821194, -0.1058102658118682, -0.021726399167247005, 0.030215665846117415, 0.08679538087840474, -0.0047634276139174765, -0.049057265431107853, 0.06936396757636977, -0.12683696550528883, 0.010524735153967619, 0.06235872957087867, 0.041570992069102586, 0.05696232837332782, -0.013621192932796853, -0.021465157923502003, -0.08481537364353611, -0.0051253282865091725, 0.024577386655666986, -0.02237891104542795, 0.04861122140009159, -0.06520322860641324, 0.011348037402898059, -0.01224997237651745, -0.005415486214629347, 0.12900057696388825, -0.04424694380819421, -0.027861494873828645, -0.04055326020956216, 0.06393393741285396, 0.006188154299182819, 0.037552622889745, -0.004475973942108341, -0.013613584903881017, -0.0013852275723159968, -0.09266711674509158, -0.014104753147757288, 0.01988439756141075, -0.008796932525315668, -0.011617150296228432, 0.09665374773024735, 0.06326745909799344, -0.016128099782974827, 0.030088272828296014, -0.027434343432556824, -0.017503900575842522, 0.05433599321276299, -0.047659565547060564, 0.04906692709544276, 0.004335814869920424, -0.008414522333526075, 0.011189901103661038, 0.09261281058577354, -0.06601218030391207, -0.021758417069934165, -0.059065375207893345, 0.00896374241958348, -0.03175011906552384, 0.0015741971361628475, 0.06410941931939153, 0.04537227743809031, 0.009052404921376407, -0.002001733285647283, -0.07203862749169243, -0.05138281570185481, -0.03692554054984275, 0.0922562868228727, -0.009249855382067806, 0.015289690140784297, 0.060059352495133354, -0.014650897992901715, -0.042192589415743074, -0.10034377368538745, -0.058860274442684594, -0.010852867286821756, 0.09030525378584754, 0.021681377499326023, -0.031640024151322305, -0.021050647221264984, 0.022006217937185685, -0.046766191600236186, -0.1002737482529174, -0.024513455916478154, 0.014921890913599115, -0.020373601925891556, -0.0301275951113418, -0.07448219696604047, -0.008697869596388713, -0.09935055684488052, -0.032619861996771374, 0.030303708066910816, -0.02630171214865093, 0.009817507004420528)\n",
    "vec_list = list(sentence_index.keys())\n",
    "vec_list2 = [cosine(vec, bussiness_sentence_vec) for vec in vec_list]\n",
    "bussiness_sentence_vec = vec_list[vec_list2.index(min(vec_list2))]\n",
    "print(bussiness_sentence_vec)"
   ]
  },
  {
   "cell_type": "code",
   "execution_count": null,
   "metadata": {},
   "outputs": [],
   "source": []
  },
  {
   "cell_type": "code",
   "execution_count": 215,
   "metadata": {},
   "outputs": [],
   "source": [
    "def get_1_from_20(vec_list, bool_list):\n",
    "    vec_list_sentence, bool_list_sentence = [el[0] for el in vec_list], [el[0] for el in bool_list]\n",
    "    common = set(vec_list_sentence) | set(bool_list_sentence)\n",
    "    if common:\n",
    "        for el in vec_list:\n",
    "            if el[0] in common:\n",
    "                return el[2]\n",
    "    return vec_list[0][2]"
   ]
  },
  {
   "cell_type": "code",
   "execution_count": 216,
   "metadata": {},
   "outputs": [],
   "source": [
    "def related_to_bussiness(sentence, sentence_index, bussiness_sentence_vec=bussiness_sentence_vec):\n",
    "#     vec_list = list(sentence_index.keys())\n",
    "#     vec_list2 = [cosine(vec, bussiness_sentence_vec) for vec in vec_list]\n",
    "#     bussiness_sentence_vec = vec_list[vec_list2.index(min(vec_list2))]\n",
    "    \n",
    "    sentence_vec = get_sentence_vec_u(sentence, u)\n",
    "    bussiness_cosine = cosine(sentence_vec, bussiness_sentence_vec)\n",
    "    others_cosine = [cosine(sentence_vec, vec) for vec in vec_list if vec != bussiness_sentence_vec]\n",
    "    if bussiness_cosine < min(others_cosine) and bussiness_cosine < 0.7:\n",
    "        return True\n",
    "    return False "
   ]
  },
  {
   "cell_type": "code",
   "execution_count": 217,
   "metadata": {},
   "outputs": [],
   "source": [
    "def get_random_answer(sentence):\n",
    "    return f'{sentence}这个问题我还需要再学习一下'"
   ]
  },
  {
   "cell_type": "markdown",
   "metadata": {},
   "source": []
  },
  {
   "cell_type": "markdown",
   "metadata": {},
   "source": [
    "检查结果"
   ]
  },
  {
   "cell_type": "markdown",
   "metadata": {},
   "source": [
    "词向量的最接近的10个"
   ]
  },
  {
   "cell_type": "code",
   "execution_count": 151,
   "metadata": {
    "scrolled": false
   },
   "outputs": [
    {
     "name": "stderr",
     "output_type": "stream",
     "text": [
      "C:\\Anaconda3\\lib\\site-packages\\ipykernel_launcher.py:38: DeprecationWarning: Call to deprecated `wv` (Attribute will be removed in 4.0.0, use self instead).\n",
      "C:\\Anaconda3\\lib\\site-packages\\ipykernel_launcher.py:19: DeprecationWarning: Call to deprecated `wv` (Attribute will be removed in 4.0.0, use self instead).\n",
      "C:\\Anaconda3\\lib\\site-packages\\ipykernel_launcher.py:20: DeprecationWarning: Call to deprecated `wv` (Attribute will be removed in 4.0.0, use self instead).\n"
     ]
    },
    {
     "name": "stdout",
     "output_type": "stream",
     "text": [
      "0 转账手续费\n",
      "1 手机银行转账手续费咨询\n",
      "2 一般转账的金额限制\n",
      "3 转账业务\n",
      "4 我在网上办理跨行转账可以转账到省外吗？\n",
      "5 什么是ATM转账还款？\n",
      "6 定制转账中周期转账的转账条件\n",
      "7 我发送短信向结算通卡账户转账，为什么收到的转账确认短信中的手续费金额旁注明了“收款方支付”？ \n",
      "8 银证转账办理时间\n",
      "9 手机银行转账汇款的历史转账记录能否保留\n",
      "0.5076799392700195\n"
     ]
    }
   ],
   "source": [
    "t = time.time()\n",
    "([print(i, el[0]) for i, el in enumerate(get_10_vec('转账手续费是多少', sentence_index))])\n",
    "print(time.time() - t)"
   ]
  },
  {
   "cell_type": "code",
   "execution_count": 150,
   "metadata": {},
   "outputs": [
    {
     "name": "stderr",
     "output_type": "stream",
     "text": [
      "C:\\Anaconda3\\lib\\site-packages\\ipykernel_launcher.py:38: DeprecationWarning: Call to deprecated `wv` (Attribute will be removed in 4.0.0, use self instead).\n",
      "C:\\Anaconda3\\lib\\site-packages\\ipykernel_launcher.py:3: DeprecationWarning: Call to deprecated `wv` (Attribute will be removed in 4.0.0, use self instead).\n",
      "  This is separate from the ipykernel package so we can avoid doing imports until\n",
      "C:\\Anaconda3\\lib\\site-packages\\ipykernel_launcher.py:10: DeprecationWarning: Call to deprecated `wv` (Attribute will be removed in 4.0.0, use self instead).\n",
      "  # Remove the CWD from sys.path while we load stuff.\n",
      "C:\\Anaconda3\\lib\\site-packages\\ipykernel_launcher.py:19: DeprecationWarning: Call to deprecated `wv` (Attribute will be removed in 4.0.0, use self instead).\n",
      "C:\\Anaconda3\\lib\\site-packages\\ipykernel_launcher.py:20: DeprecationWarning: Call to deprecated `wv` (Attribute will be removed in 4.0.0, use self instead).\n"
     ]
    },
    {
     "name": "stdout",
     "output_type": "stream",
     "text": [
      "0 今天真热啊\n",
      "1 今天真热\n",
      "2 真的，我说的真的\n",
      "3 不是真的\n",
      "4 看来你你真的好蠢\n",
      "5 真的啊我要哭了\n",
      "6 你真2你真20\n",
      "7 我是真的回家\n",
      "8 我真的爱你\n",
      "9 双子的异性缘真的是好到不行，自带气场的那种呀。\n",
      "0.493011474609375\n"
     ]
    }
   ],
   "source": [
    "t = time.time()\n",
    "([print(i, el[0]) for i, el in enumerate(get_10_vec('今天天气真几把热', sentence_index))])\n",
    "print(time.time() - t)"
   ]
  },
  {
   "cell_type": "code",
   "execution_count": 149,
   "metadata": {},
   "outputs": [
    {
     "name": "stderr",
     "output_type": "stream",
     "text": [
      "C:\\Anaconda3\\lib\\site-packages\\ipykernel_launcher.py:38: DeprecationWarning: Call to deprecated `wv` (Attribute will be removed in 4.0.0, use self instead).\n",
      "C:\\Anaconda3\\lib\\site-packages\\ipykernel_launcher.py:19: DeprecationWarning: Call to deprecated `wv` (Attribute will be removed in 4.0.0, use self instead).\n",
      "C:\\Anaconda3\\lib\\site-packages\\ipykernel_launcher.py:20: DeprecationWarning: Call to deprecated `wv` (Attribute will be removed in 4.0.0, use self instead).\n"
     ]
    },
    {
     "name": "stdout",
     "output_type": "stream",
     "text": [
      "0 你什么学历\n",
      "1 代理他人存款的客户身份识别要求\n",
      "2 个人保障性住房贷款的业务简介\n",
      "3 特殊客户存款人本人在国外的情况\n",
      "4 金融IC卡的有效期\n",
      "5 个人保障性住房贷款的业务特色\n",
      "6 出境游保证金证明的被证明人要求\n",
      "7 信托业务简介\n",
      "8 个人出境游保证金证明的业务介绍\n",
      "9 存省息业务的办理对象\n",
      "0.46767640113830566\n"
     ]
    }
   ],
   "source": [
    "t = time.time()\n",
    "([print(i, el[0]) for i, el in enumerate(get_10_vec('你是啥学历', sentence_index))])\n",
    "print(time.time() - t)"
   ]
  },
  {
   "cell_type": "markdown",
   "metadata": {},
   "source": [
    "布尔判断的最接近的10个"
   ]
  },
  {
   "cell_type": "code",
   "execution_count": 148,
   "metadata": {
    "scrolled": false
   },
   "outputs": [
    {
     "name": "stdout",
     "output_type": "stream",
     "text": [
      "0 定制转账中所说的周期转账是什么\n",
      "1 定制转账业务规则\n",
      "2 中信银行异地跨行取款手续费\n",
      "3 转账提交后可以修改附言内容吗\n",
      "4 B股集中式银证转账业务特色\n",
      "5 银衍转账的介绍\n",
      "6 您在网银渠道首次开通短信转账或缴费时，网银返显手机号可以修改吗？\n",
      "7 人民币转账退款原因查询\n",
      "8 如何取消短信转账功能\n",
      "9 信用卡账单分期可以申请提前还款吗，分期手续费如何计算？\n",
      "0.05421304702758789\n"
     ]
    }
   ],
   "source": [
    "t = time.time()\n",
    "([print(i, el[0]) for i, el in enumerate(get_10_word('转账手续费是多少', word_index))])\n",
    "print(time.time() - t)"
   ]
  },
  {
   "cell_type": "code",
   "execution_count": 153,
   "metadata": {},
   "outputs": [
    {
     "name": "stdout",
     "output_type": "stream",
     "text": [
      "0 那我真打你 哇~~~不要了~我很听话的\n",
      "1 今天的饭真难吃 是吗？下次少吃点。\n",
      "2 今天真郁闷: 怎么啦！\n",
      "3 帮我热一下饭 怎么热？\n",
      "4 真小气！ 已经不能用小气形容了\n",
      "5 你真聪明 您这么说我会害羞的哦\n",
      "6 你真可爱 谢谢，我都害羞了\n",
      "7 今天真倒霉把钱包丢了 我也丢过\n",
      "8 你真悲哀 做人要乐观开心，机器人也一样\n",
      "9 我想说，生活真美好。 生活中的美好真是处处都能发现呢。\n",
      "0.015707969665527344\n"
     ]
    }
   ],
   "source": [
    "t = time.time()\n",
    "([print(i, el[0], el[2]) for i, el in enumerate(get_10_word('今天天气真几把热', word_index))])\n",
    "print(time.time() - t)"
   ]
  },
  {
   "cell_type": "code",
   "execution_count": 152,
   "metadata": {},
   "outputs": [
    {
     "name": "stdout",
     "output_type": "stream",
     "text": [
      "0 什么学历 小学没毕业\n",
      "1 你的学历 我是大一的，说起来也算个学霸呢～\n",
      "2 你什么学历 文盲\n",
      "0.001010894775390625\n"
     ]
    }
   ],
   "source": [
    "t = time.time()\n",
    "([print(i, el[0], el[2]) for i, el in enumerate(get_10_word('你是啥学历', word_index))])\n",
    "print(time.time() - t)"
   ]
  },
  {
   "cell_type": "markdown",
   "metadata": {},
   "source": [
    "把词向量和布尔判断的20个放到一起, 选出回答的一个"
   ]
  },
  {
   "cell_type": "code",
   "execution_count": 212,
   "metadata": {},
   "outputs": [
    {
     "name": "stderr",
     "output_type": "stream",
     "text": [
      "C:\\Anaconda3\\lib\\site-packages\\ipykernel_launcher.py:38: DeprecationWarning: Call to deprecated `wv` (Attribute will be removed in 4.0.0, use self instead).\n",
      "C:\\Anaconda3\\lib\\site-packages\\ipykernel_launcher.py:19: DeprecationWarning: Call to deprecated `wv` (Attribute will be removed in 4.0.0, use self instead).\n",
      "C:\\Anaconda3\\lib\\site-packages\\ipykernel_launcher.py:20: DeprecationWarning: Call to deprecated `wv` (Attribute will be removed in 4.0.0, use self instead).\n"
     ]
    },
    {
     "data": {
      "text/plain": [
       "'我行手机银行转账手续费全免，其余见附表'"
      ]
     },
     "execution_count": 212,
     "metadata": {},
     "output_type": "execute_result"
    }
   ],
   "source": [
    "get_1_from_20(get_10_vec('转账手续费是多少', sentence_index), get_10_word('转账手续费是多少', word_index, 1000))"
   ]
  },
  {
   "cell_type": "markdown",
   "metadata": {},
   "source": [
    "检查是否是业务相关问题的判断准确率的precision和recall"
   ]
  },
  {
   "cell_type": "code",
   "execution_count": 228,
   "metadata": {
    "scrolled": false
   },
   "outputs": [
    {
     "name": "stdout",
     "output_type": "stream",
     "text": [
      "related_to_bussiness\n",
      "交易明细疑义查询\n",
      "通用盾（音频盾）的介绍\n",
      "网上支付限额是否可以更改？\n",
      "些商户支持积分商户兑换?\n",
      "账号支付开通\n",
      "借记卡换卡业务介绍\n",
      "页面上方的所在城市可以切换到其他城市吗？\n",
      "数字医院方案还有什么产品组合？\n",
      "他人代销活期存款账户\n",
      "“振兴演艺”可以为相关客户提供哪些服务？\n",
      "你有电子邮件地址吗\n",
      "什么是储蓄存款继承\n",
      "银银合作第三方存管业务简介\n",
      "提示“0250B2107003您输入的账(卡号)与您选择的交易类别不匹配，请确认您的输入是否有误，或拨打95533咨询”是什么意思\n",
      "澳大利亚元活期存款利率是多少\n",
      "信用卡结算币种前的星号什么意思\n",
      "离岸美元汇款手续费优惠活动内容\n",
      "银行微银行提供哪些服务\n",
      "办理缴费\n",
      "什么是电汇汇出业务\n",
      "电话银行办理自助缴费\n",
      "若我旧卡本期已扣过费，换新卡后还会重复扣短信服务费吗？\n",
      "用户配置的功能介绍\n",
      "电话银行预约转账是否有笔数限制\n",
      "储蓄国债(电子式)的特点\n",
      "住宅信息的修改渠道\n",
      "我手机停机了\n",
      "未登录过PC版，是否可以在手机客户端进行首次登录？ \n",
      "“南商龙卡”信用卡可享受哪些权益\n",
      "电子渠道结售汇币种介绍\n",
      "网上银行信用卡积分合并流程是什么？\n",
      "点击“忘记网银用户名”时系统报错“输入的卡号尚未设置昵称”怎么办\n",
      "如何撤销网上银行购汇还款？\n",
      "开放式理财产品为什么没有赎回按钮\n",
      "“上戏龙卡”附属卡的卡面与主卡是否一样\n",
      "“深航龙卡”的发卡对象\n",
      "自助票据机用户号登录的介绍\n",
      "原手机无法使用，如何解绑手机银行客户端\n",
      "境外电汇汇入的特点是什么\n",
      "网银注销后，我是否可以原来网银盾再次开通网上银行？\n",
      "私人网银教育规划功能的操作步骤\n",
      "预约转账功能的开通渠道\n",
      "电话银行公积金账户的查询方法\n",
      "电话银行转账至他人账户\n",
      "票据是否有支付密码\n",
      "你有没有电子邮件\n",
      "什么是ATM转账还款？\n",
      "没有银行卡能否购买基金\n",
      "可办理外币光票托收的票据种类\n",
      "登录网银提示“系统忙，请稍后再试”怎么办\n",
      "登录网银时显示“服务器没有接收到您的证书”怎么办\n",
      "个人网银“银期管理”中的“变更账户”是什么\n",
      "我们保持电话联系\n",
      "为什么会收到信用卡升级的邀请短信\n",
      "如何通过网银投保\n",
      "“陆港通龙卡”的有效期\n",
      "公司外汇买卖办理时间\n",
      "什么是预授权申请\n",
      "PAD安全性保障\n",
      "我可以使用上行短信方式取消基金短信服务吗？\n",
      "手机银行如何缴党费\n",
      "金融IC卡降级交易的介绍\n",
      "智慧柜员机上修改手机号\n",
      "购汇还款是否需要手续费\n",
      "财富之星介绍\n",
      "电子商业汇票批量下载的文件格式\n",
      "非金融服务的服务对象\n",
      "助力民营主要服务什么？?\n",
      "远程智能柜员机-票据受理介绍的介绍\n",
      "个人住房装修贷款的办理流程\n",
      "个人网银如何撤销基金定投\n",
      "如何办理基金交易\n",
      "信用卡账单日自动购汇还款后额度恢复时效\n",
      "借记卡激活\n",
      "主板驱动程序怎么装\n",
      "申请提高公转私限额\n",
      "怎样使用客户端修改手机银行的登录密码？\n",
      "能刷卡吗\n",
      "签名/安全/缓存清理控件通过哪里下载\n",
      "开立个人银行账户的有效身份证件包括哪些\n",
      "个人出国保证金贷款的解冻与提前还款\n",
      "军人住房公积金贷款的还款间隔\n",
      "分期通授信额度是多少\n",
      "龙卡人民币信用卡香港地区服务电话\n",
      "网银如何修改/撤消外汇期权挂盘\n",
      "资金的概念\n",
      "为何储蓄卡开户激活后扣收5元工本费\n",
      "无法登录网银如何处理\n",
      "储蓄卡取款密码什么情况下被锁定\n",
      "信用卡自助还款\n",
      "基金定投到期续交\n",
      "借记卡挂失之后，还能正常交易吗\n",
      "“中央红龙卡”顾客使用回报礼券再次购物时，是否享受商场积分累计\n",
      "个人网银如何撤销跨行资金归集\n",
      "联名账户借记卡的异地取款手续费收取规则\n",
      "我想购买股票需要办理什么\n",
      "个人实物黄金质押贷款的期限\n",
      "手机银行如何开通账户变动短信通知\n",
      "ATM&CRS无卡／折转账\n",
      "提示“0010ZXXSDM02机构已被撤并:210630635”是什么意思\n",
      "#################################################################################################### \n",
      "not related_to_bussiness\n",
      "那我们一起去吧\n",
      "房价降温的过程中，开发商会减少推盘量，你怎么看\n",
      "那你把你的全码告诉我\n",
      "怎么打发时间\n",
      "不知道。\n",
      "你老家哪里\n",
      "啊啊？为什么我没有？\n",
      "我们力争。\n",
      "这条围巾多少钱\n",
      "交过几个女朋友\n",
      "嗯喂\n",
      "多少钱啊\n",
      "您可以教我说更多的话啊\n",
      "不会吧要不要我送过去啊\n",
      "围巾你有没有\n",
      "激励你啊\n",
      "脑子里装的都是大便\n",
      "浪遏飞舟\n",
      "你这段时间到底在做些什么事\n",
      "我想给你点意见\n",
      "你说的我没听太清，能再说一遍吗\n",
      "问你啥性别\n",
      "你知道vb是什么\n",
      "笔墨纸砚\n",
      "我会下棋\n",
      "我觉得你是一台婴儿机器人\n",
      "你能给我叫一辆出租车吗\n",
      "还不得了了\n",
      "来吧，吃哪里随便点！\n",
      "圣诞老人是真的吗\n",
      "就试试嘛\n",
      "看不到。\n",
      "有什么查案的电影好看的\n",
      "但愿吧\n",
      "您说呢？真无聊的问题\n",
      "谁会不爱自己的祖国。\n",
      "清华也算是人才辈出的地方了。\n",
      "机器人要吃饭吗\n",
      "对不起你不回信息我着急\n",
      "你个笨蛋这都不知道啊\n",
      "谢谢夸奖，您也很美。\n",
      "中国人，同时也是地球人\n",
      "买房子选一楼好吗\n",
      "很有礼貌\n",
      "太善解人意了，这大概是我最大的缺点了。\n",
      "我刚从医院回来没事了\n",
      "你的身体很棒\n",
      "恩！\n",
      "好像是电影里的台词啊?\n",
      "你喜欢穿什么牌子的鞋子\n",
      "可以提意见吗\n",
      "能说慢一点吗\n",
      "我会好好改正的555\n",
      "你可以讲话吗\n",
      "刚刚好\n",
      "(哈)，我好感动哦。\n",
      "美女~\n",
      "“善融年货节”活动介绍\n",
      "关我屁事\n",
      "你见过的最夸张的金牛座是什么样子的。\n",
      "旋转乾坤\n",
      "哦你三围多少\n",
      "我想打你\n",
      "我要跟你老板说\n",
      "呵呵什么\n",
      "你喝尿\n",
      "我害怕你生气的样子。\n",
      "帮我叫辆车\n",
      "在忙什么\n",
      "芬兰\n",
      "你爸爸是谁\n",
      "sorry我还真不知道\n",
      "成就\n",
      "老友记\n",
      "那你怎么知道我想说什么？\n",
      "怎样才能运动减肥\n",
      "呃，是啊，您也用的啊\n",
      "这要问编这个软件的人\n",
      "背首诗\n",
      "你知道情人节是农历哪天\n",
      "以后我们email联系\n",
      "你过分\n",
      "我等下出去一会\n",
      "可否稍等片刻\n",
      "你认为男人的爱与女人的爱是不同的吗？\n",
      "十全十美\n",
      "你可以去死了\n",
      "喜欢！\n",
      "别骄傲撒\n",
      "告诉我你不是真的离开我??\n",
      "你怎么还不睡\n",
      "我想咨询下你们\n",
      "演员里你喜欢的是谁\n",
      "聊女人\n",
      "怎么才可以留言啊\n",
      "翘起你的小PP\n",
      "聊聊呗咱们\n",
      "祝您有个愉快的假期！\n",
      "你教我学英语好吗\n",
      "生命是宝贵的\n"
     ]
    }
   ],
   "source": [
    "i = 0\n",
    "is_business = []\n",
    "not_business = []\n",
    "sample = random.sample([el[0] for el in content_dict.values()], 500)\n",
    "while len(is_business) < 100 or len(not_business) < 100:\n",
    "    for el in sample:\n",
    "        b = related_to_bussiness(el, sentence_index)\n",
    "        if b:\n",
    "            is_business.append(el)\n",
    "        else:\n",
    "            not_business.append(el)\n",
    "\n",
    "print('related_to_bussiness')\n",
    "print('\\n'.join(random.sample(is_business, 100)))\n",
    "print('#' * 100, '\\nnot related_to_bussiness')\n",
    "print('\\n'.join(random.sample(not_business, 100)))"
   ]
  },
  {
   "cell_type": "code",
   "execution_count": null,
   "metadata": {},
   "outputs": [],
   "source": []
  },
  {
   "cell_type": "code",
   "execution_count": null,
   "metadata": {},
   "outputs": [],
   "source": []
  },
  {
   "cell_type": "code",
   "execution_count": null,
   "metadata": {},
   "outputs": [],
   "source": []
  },
  {
   "cell_type": "code",
   "execution_count": 218,
   "metadata": {},
   "outputs": [],
   "source": [
    "pickle.dump(sentence_index, open('sentence_index', 'wb'))\n",
    "pickle.dump(word_index, open('word_index', 'wb'))\n",
    "pickle.dump(bussiness_sentence_vec, open('bussiness_sentence_vec', 'wb'))\n",
    "pickle.dump(content_dict, open('content_dict', 'wb'))\n",
    "pickle.dump(u, open('u', 'wb'))"
   ]
  },
  {
   "cell_type": "code",
   "execution_count": null,
   "metadata": {},
   "outputs": [],
   "source": []
  },
  {
   "cell_type": "code",
   "execution_count": null,
   "metadata": {},
   "outputs": [],
   "source": []
  },
  {
   "cell_type": "code",
   "execution_count": null,
   "metadata": {},
   "outputs": [],
   "source": []
  },
  {
   "cell_type": "code",
   "execution_count": null,
   "metadata": {},
   "outputs": [],
   "source": []
  },
  {
   "cell_type": "code",
   "execution_count": null,
   "metadata": {},
   "outputs": [],
   "source": []
  },
  {
   "cell_type": "code",
   "execution_count": null,
   "metadata": {},
   "outputs": [],
   "source": []
  },
  {
   "cell_type": "code",
   "execution_count": null,
   "metadata": {},
   "outputs": [],
   "source": []
  },
  {
   "cell_type": "code",
   "execution_count": null,
   "metadata": {},
   "outputs": [],
   "source": []
  },
  {
   "cell_type": "code",
   "execution_count": null,
   "metadata": {},
   "outputs": [],
   "source": []
  }
 ],
 "metadata": {
  "kernelspec": {
   "display_name": "Python 3",
   "language": "python",
   "name": "python3"
  },
  "language_info": {
   "codemirror_mode": {
    "name": "ipython",
    "version": 3
   },
   "file_extension": ".py",
   "mimetype": "text/x-python",
   "name": "python",
   "nbconvert_exporter": "python",
   "pygments_lexer": "ipython3",
   "version": "3.7.4"
  }
 },
 "nbformat": 4,
 "nbformat_minor": 2
}
