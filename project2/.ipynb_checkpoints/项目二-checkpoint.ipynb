{
 "cells": [
  {
   "cell_type": "markdown",
   "metadata": {},
   "source": [
    "代码地址:https://github.com/NachoLiu1234/assignment/blob/master/project2/train.ipynb"
   ]
  },
  {
   "cell_type": "markdown",
   "metadata": {},
   "source": [
    "1. 标签: 这个文本细粒度的项目标签分布不均衡, 我通过给每个训练数据定一个权重来处理, 权重的计算 = 总的标签数量 / 该标签的数量"
   ]
  },
  {
   "cell_type": "markdown",
   "metadata": {},
   "source": [
    "2. 模型: 一开始使用了3层双向lstm, 后来发现CPU速度比tesla v100还要快几倍, 因为lstm的输入取决于上一个输出, 所以无法利用GPU的大量核心的特点, 除非使用大量lstm, 但是大量lstm可能导致过拟合, 模型的泛化不好, 所以采用conv1d"
   ]
  },
  {
   "cell_type": "markdown",
   "metadata": {},
   "source": [
    "3. 训练超参数: 考虑到20个标签训练时间较长, 所以减少了epoch的数量, 减少了模型深度, 减少了模型的参数, 使单个epoch需要的时间缩短. 因为之前有过这样的经验, 在训练数据时, 使用了SGD的0.001的学习率, 后来接近收敛, 又把学习率减到了1/5(0.0002)以后, loss瞬间下降了, 所以这次训练模型时, 我采用0.01训练10个epoch, 再用0.002训练5个epoch, 再用0.0002训练5个epoch"
   ]
  },
  {
   "cell_type": "markdown",
   "metadata": {},
   "source": [
    "4. 衡量指标: "
   ]
  },
  {
   "cell_type": "code",
   "execution_count": null,
   "metadata": {},
   "outputs": [],
   "source": [
    "import tensorflow as tf\n",
    "import pandas as pd\n",
    "import numpy as np\n",
    "import matplotlib\n",
    "import gensim, time\n",
    "import pickle, json\n",
    "%matplotlib inline\n",
    "from matplotlib import pyplot as plt\n",
    "from collections import Counter"
   ]
  },
  {
   "cell_type": "markdown",
   "metadata": {},
   "source": []
  }
 ],
 "metadata": {
  "kernelspec": {
   "display_name": "Python 3",
   "language": "python",
   "name": "python3"
  },
  "language_info": {
   "codemirror_mode": {
    "name": "ipython",
    "version": 3
   },
   "file_extension": ".py",
   "mimetype": "text/x-python",
   "name": "python",
   "nbconvert_exporter": "python",
   "pygments_lexer": "ipython3",
   "version": "3.7.4"
  }
 },
 "nbformat": 4,
 "nbformat_minor": 2
}
