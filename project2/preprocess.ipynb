{
 "cells": [
  {
   "cell_type": "code",
   "execution_count": 1,
   "metadata": {},
   "outputs": [],
   "source": [
    "import pandas as pd\n",
    "import numpy as np\n",
    "import gensim\n",
    "import jieba\n",
    "import matplotlib\n",
    "%matplotlib inline\n",
    "from matplotlib import pyplot as plt"
   ]
  },
  {
   "cell_type": "code",
   "execution_count": 2,
   "metadata": {},
   "outputs": [],
   "source": [
    "path = r'C:\\Users\\liuni\\Desktop\\assignment\\project2\\ai_challenger_sentiment_analysis_trainingset_20180816/sentiment_analysis_trainingset.csv'"
   ]
  },
  {
   "cell_type": "code",
   "execution_count": 3,
   "metadata": {},
   "outputs": [],
   "source": [
    "df = pd.read_csv(path)"
   ]
  },
  {
   "cell_type": "code",
   "execution_count": 4,
   "metadata": {},
   "outputs": [
    {
     "name": "stderr",
     "output_type": "stream",
     "text": [
      "Building prefix dict from the default dictionary ...\n",
      "Loading model from cache C:\\Users\\liuni\\AppData\\Local\\Temp\\jieba.cache\n",
      "Loading model cost 0.825 seconds.\n",
      "Prefix dict has been built succesfully.\n"
     ]
    },
    {
     "data": {
      "text/plain": [
       "(['霸王', '餐'], ['舍得', '吃'], '舍得', '吃', '霸王', '餐', ['舍得吃', '霸王餐'], ['霸王'])"
      ]
     },
     "execution_count": 4,
     "metadata": {},
     "output_type": "execute_result"
    }
   ],
   "source": [
    "def cut(words):\n",
    "    detailed_words = []\n",
    "    _words = words\n",
    "    while _words:\n",
    "        words = sorted(jieba.lcut_for_search(_words), key=lambda x: len(x))\n",
    "        for w in words:\n",
    "            if _words.startswith(w):\n",
    "                detailed_words.append(w)\n",
    "                _words = _words[len(w):]\n",
    "                break\n",
    "    return detailed_words\n",
    "\n",
    "cut('霸王餐'), cut('舍得吃'), *cut('舍得吃霸王餐'), jieba.lcut('舍得吃霸王餐'), cut('霸王')"
   ]
  },
  {
   "cell_type": "code",
   "execution_count": 5,
   "metadata": {},
   "outputs": [],
   "source": [
    "# 这是我去网上下载的cboe的word2vec, 估计比我训练的要好\n",
    "word2vec = gensim.models.KeyedVectors.load_word2vec_format(r'C:\\Users\\liuni\\Desktop\\assignment\\project2\\cn.cbow.bin', binary=True, unicode_errors='ignore')"
   ]
  },
  {
   "cell_type": "code",
   "execution_count": 6,
   "metadata": {},
   "outputs": [],
   "source": [
    "content_cut = [jieba.lcut(el) for el in df['content']]"
   ]
  },
  {
   "cell_type": "code",
   "execution_count": 7,
   "metadata": {},
   "outputs": [],
   "source": [
    "with open('百度停用词表.txt', 'r', -1, 'utf8') as f:\n",
    "    stop_word = f.readlines()\n",
    "stop_word = set([el.rstrip('\\n') for el in stop_word if el.rstrip('\\n') ])"
   ]
  },
  {
   "cell_type": "code",
   "execution_count": 8,
   "metadata": {},
   "outputs": [],
   "source": [
    "content_cut = [[e for e in el if e not in stop_word] for el in content_cut]"
   ]
  },
  {
   "cell_type": "code",
   "execution_count": 9,
   "metadata": {},
   "outputs": [
    {
     "name": "stderr",
     "output_type": "stream",
     "text": [
      "C:\\Users\\liuni\\Anaconda3\\lib\\site-packages\\ipykernel_launcher.py:5: DeprecationWarning: Call to deprecated `wv` (Attribute will be removed in 4.0.0, use self instead).\n",
      "  \"\"\"\n"
     ]
    }
   ],
   "source": [
    "_content_cut = []\n",
    "for el in content_cut:\n",
    "    sentense = []\n",
    "    for e in el:\n",
    "        if e in word2vec.wv:\n",
    "            sentense.append(e)\n",
    "        else:\n",
    "            sentense.extend(cut(e))\n",
    "    _content_cut.append(sentense)"
   ]
  },
  {
   "cell_type": "code",
   "execution_count": 10,
   "metadata": {
    "scrolled": true
   },
   "outputs": [],
   "source": [
    "content_cut = _content_cut"
   ]
  },
  {
   "cell_type": "code",
   "execution_count": 11,
   "metadata": {},
   "outputs": [],
   "source": [
    "length = sorted([len(el) for el in content_cut])"
   ]
  },
  {
   "cell_type": "code",
   "execution_count": 12,
   "metadata": {},
   "outputs": [
    {
     "data": {
      "text/plain": [
       "(array([2.0000e+00, 3.8000e+01, 1.8296e+04, 3.5829e+04, 1.8850e+04,\n",
       "        1.0134e+04, 6.4920e+03, 4.4630e+03, 3.2370e+03, 2.1020e+03,\n",
       "        1.3860e+03, 9.9300e+02, 6.9100e+02, 5.3900e+02, 4.0500e+02,\n",
       "        3.1400e+02, 2.3800e+02, 2.0200e+02, 1.5000e+02, 1.3900e+02,\n",
       "        9.7000e+01, 8.0000e+01, 5.6000e+01, 3.8000e+01, 4.3000e+01,\n",
       "        2.7000e+01, 3.5000e+01, 2.8000e+01, 3.3000e+01, 1.6000e+01,\n",
       "        1.5000e+01, 1.1000e+01, 7.0000e+00, 6.0000e+00, 2.0000e+00,\n",
       "        2.0000e+00, 2.0000e+00, 1.0000e+00, 0.0000e+00, 0.0000e+00,\n",
       "        0.0000e+00, 0.0000e+00, 0.0000e+00, 0.0000e+00, 0.0000e+00,\n",
       "        0.0000e+00, 0.0000e+00, 0.0000e+00, 0.0000e+00, 1.0000e+00]),\n",
       " array([   9.  ,   41.62,   74.24,  106.86,  139.48,  172.1 ,  204.72,\n",
       "         237.34,  269.96,  302.58,  335.2 ,  367.82,  400.44,  433.06,\n",
       "         465.68,  498.3 ,  530.92,  563.54,  596.16,  628.78,  661.4 ,\n",
       "         694.02,  726.64,  759.26,  791.88,  824.5 ,  857.12,  889.74,\n",
       "         922.36,  954.98,  987.6 , 1020.22, 1052.84, 1085.46, 1118.08,\n",
       "        1150.7 , 1183.32, 1215.94, 1248.56, 1281.18, 1313.8 , 1346.42,\n",
       "        1379.04, 1411.66, 1444.28, 1476.9 , 1509.52, 1542.14, 1574.76,\n",
       "        1607.38, 1640.  ]),\n",
       " <a list of 50 Patch objects>)"
      ]
     },
     "execution_count": 12,
     "metadata": {},
     "output_type": "execute_result"
    },
    {
     "data": {
      "image/png": "[encoded data removed]",
      "text/plain": [
       "<Figure size 432x288 with 1 Axes>"
      ]
     },
     "metadata": {
      "needs_background": "light"
     },
     "output_type": "display_data"
    }
   ],
   "source": [
    "plt.hist(length, bins=50, edgecolor=\"black\", alpha=0.7)"
   ]
  },
  {
   "cell_type": "code",
   "execution_count": 13,
   "metadata": {},
   "outputs": [
    {
     "data": {
      "text/plain": [
       "456"
      ]
     },
     "execution_count": 13,
     "metadata": {},
     "output_type": "execute_result"
    }
   ],
   "source": [
    "length[int(len(length) * 0.98)]"
   ]
  },
  {
   "cell_type": "code",
   "execution_count": 14,
   "metadata": {},
   "outputs": [],
   "source": [
    "truncate = 450"
   ]
  },
  {
   "cell_type": "code",
   "execution_count": 15,
   "metadata": {},
   "outputs": [
    {
     "name": "stderr",
     "output_type": "stream",
     "text": [
      "C:\\Users\\liuni\\Anaconda3\\lib\\site-packages\\ipykernel_launcher.py:1: DeprecationWarning: Call to deprecated `wv` (Attribute will be removed in 4.0.0, use self instead).\n",
      "  \"\"\"Entry point for launching an IPython kernel.\n"
     ]
    }
   ],
   "source": [
    "content_cut = [[e for e in el if e in word2vec.wv][:truncate] for el in content_cut]"
   ]
  },
  {
   "cell_type": "code",
   "execution_count": 16,
   "metadata": {},
   "outputs": [
    {
     "data": {
      "text/html": [
       "<div>\n",
       "<style scoped>\n",
       "    .dataframe tbody tr th:only-of-type {\n",
       "        vertical-align: middle;\n",
       "    }\n",
       "\n",
       "    .dataframe tbody tr th {\n",
       "        vertical-align: top;\n",
       "    }\n",
       "\n",
       "    .dataframe thead th {\n",
       "        text-align: right;\n",
       "    }\n",
       "</style>\n",
       "<table border=\"1\" class=\"dataframe\">\n",
       "  <thead>\n",
       "    <tr style=\"text-align: right;\">\n",
       "      <th></th>\n",
       "      <th>content</th>\n",
       "    </tr>\n",
       "  </thead>\n",
       "  <tbody>\n",
       "    <tr>\n",
       "      <td>0</td>\n",
       "      <td>\"吼吼吼，萌死人的棒棒糖，中了大众点评的霸王餐，太可爱了。一直就好奇这个棒棒糖是怎么个东西，...</td>\n",
       "    </tr>\n",
       "    <tr>\n",
       "      <td>1</td>\n",
       "      <td>\"第三次参加大众点评网霸王餐的活动。这家店给人整体感觉一般。首先环境只能算中等，其次霸王餐提...</td>\n",
       "    </tr>\n",
       "    <tr>\n",
       "      <td>2</td>\n",
       "      <td>\"4人同行 点了10个小吃\\n榴莲酥 榴莲味道不足 松软 奶味浓\\n虾饺 好吃 两颗大虾仁\\...</td>\n",
       "    </tr>\n",
       "    <tr>\n",
       "      <td>3</td>\n",
       "      <td>\"之前评价了莫名其妙被删 果断继续差评！ 换了菜单 价格更低 开始砸牌子 但套餐还是有150...</td>\n",
       "    </tr>\n",
       "    <tr>\n",
       "      <td>4</td>\n",
       "      <td>\"出乎意料地惊艳，椰子鸡清热降火，美容养颜，大大满足了爱吃火锅怕上火星人。椰子冻是帅帅的老板...</td>\n",
       "    </tr>\n",
       "    <tr>\n",
       "      <td>...</td>\n",
       "      <td>...</td>\n",
       "    </tr>\n",
       "    <tr>\n",
       "      <td>104995</td>\n",
       "      <td>\"中午吃饭去的，总体感觉不错。用了点评团购的午市代金券，相当于打7折，折扣力度不小。\\n简单...</td>\n",
       "    </tr>\n",
       "    <tr>\n",
       "      <td>104996</td>\n",
       "      <td>\"今天晚上六点钟准时来到了位于红山路高家村42号的味香情太空舱果木烤吧，参加大众点评组织的同...</td>\n",
       "    </tr>\n",
       "    <tr>\n",
       "      <td>104997</td>\n",
       "      <td>\"办留学手续应个景儿，来到这儿吃我最喜欢的日料之一：味增拉面。みそ、しょうゆ是两个拉面基本款...</td>\n",
       "    </tr>\n",
       "    <tr>\n",
       "      <td>104998</td>\n",
       "      <td>\"和票专程来这边找美食吃，早就听说这家店，刚好路过就来试下～\\n按照大众的地图导航还是比较好...</td>\n",
       "    </tr>\n",
       "    <tr>\n",
       "      <td>104999</td>\n",
       "      <td>\"『位置』在大融城LG层美时佳美食广场门口，具体是在好伦哥旁边，湘域斜对面。\\n紫色的招牌不...</td>\n",
       "    </tr>\n",
       "  </tbody>\n",
       "</table>\n",
       "<p>105000 rows × 1 columns</p>\n",
       "</div>"
      ],
      "text/plain": [
       "                                                  content\n",
       "0       \"吼吼吼，萌死人的棒棒糖，中了大众点评的霸王餐，太可爱了。一直就好奇这个棒棒糖是怎么个东西，...\n",
       "1       \"第三次参加大众点评网霸王餐的活动。这家店给人整体感觉一般。首先环境只能算中等，其次霸王餐提...\n",
       "2       \"4人同行 点了10个小吃\\n榴莲酥 榴莲味道不足 松软 奶味浓\\n虾饺 好吃 两颗大虾仁\\...\n",
       "3       \"之前评价了莫名其妙被删 果断继续差评！ 换了菜单 价格更低 开始砸牌子 但套餐还是有150...\n",
       "4       \"出乎意料地惊艳，椰子鸡清热降火，美容养颜，大大满足了爱吃火锅怕上火星人。椰子冻是帅帅的老板...\n",
       "...                                                   ...\n",
       "104995  \"中午吃饭去的，总体感觉不错。用了点评团购的午市代金券，相当于打7折，折扣力度不小。\\n简单...\n",
       "104996  \"今天晚上六点钟准时来到了位于红山路高家村42号的味香情太空舱果木烤吧，参加大众点评组织的同...\n",
       "104997  \"办留学手续应个景儿，来到这儿吃我最喜欢的日料之一：味增拉面。みそ、しょうゆ是两个拉面基本款...\n",
       "104998  \"和票专程来这边找美食吃，早就听说这家店，刚好路过就来试下～\\n按照大众的地图导航还是比较好...\n",
       "104999  \"『位置』在大融城LG层美时佳美食广场门口，具体是在好伦哥旁边，湘域斜对面。\\n紫色的招牌不...\n",
       "\n",
       "[105000 rows x 1 columns]"
      ]
     },
     "execution_count": 16,
     "metadata": {},
     "output_type": "execute_result"
    }
   ],
   "source": [
    "df[['content']]"
   ]
  },
  {
   "cell_type": "code",
   "execution_count": 18,
   "metadata": {},
   "outputs": [],
   "source": [
    "df['content'] = content_cut"
   ]
  },
  {
   "cell_type": "code",
   "execution_count": 22,
   "metadata": {},
   "outputs": [],
   "source": [
    "# import pickle\n",
    "# pickle.dump(content_cut, open('train.pkl', 'wb'))\n",
    "df.to_pickle('train.pkl')"
   ]
  },
  {
   "cell_type": "code",
   "execution_count": null,
   "metadata": {},
   "outputs": [],
   "source": [
    "# add = np.array([0 for _ in range(300)])"
   ]
  },
  {
   "cell_type": "code",
   "execution_count": null,
   "metadata": {},
   "outputs": [],
   "source": [
    "# content_cut = [np.array(el + [add for _ in range(truncate - len(el))]) for el in content_cut]"
   ]
  },
  {
   "cell_type": "code",
   "execution_count": null,
   "metadata": {},
   "outputs": [],
   "source": []
  },
  {
   "cell_type": "code",
   "execution_count": null,
   "metadata": {},
   "outputs": [],
   "source": []
  },
  {
   "cell_type": "code",
   "execution_count": null,
   "metadata": {},
   "outputs": [],
   "source": []
  },
  {
   "cell_type": "code",
   "execution_count": 27,
   "metadata": {},
   "outputs": [],
   "source": [
    "df = pd.read_csv(r'C:\\Users\\liuni\\Desktop\\assignment\\project2\\ai_challenger_sentiment_analysis_validationset_20180816\\sentiment_analysis_validationset.csv')"
   ]
  },
  {
   "cell_type": "code",
   "execution_count": 28,
   "metadata": {},
   "outputs": [],
   "source": [
    "content_cut = [jieba.lcut(el) for el in df['content']]"
   ]
  },
  {
   "cell_type": "code",
   "execution_count": 29,
   "metadata": {},
   "outputs": [],
   "source": [
    "content_cut = [[e for e in el if e not in stop_word] for el in content_cut]"
   ]
  },
  {
   "cell_type": "code",
   "execution_count": 30,
   "metadata": {},
   "outputs": [
    {
     "name": "stderr",
     "output_type": "stream",
     "text": [
      "C:\\Users\\liuni\\Anaconda3\\lib\\site-packages\\ipykernel_launcher.py:5: DeprecationWarning: Call to deprecated `wv` (Attribute will be removed in 4.0.0, use self instead).\n",
      "  \"\"\"\n"
     ]
    }
   ],
   "source": [
    "_content_cut = []\n",
    "for el in content_cut:\n",
    "    sentense = []\n",
    "    for e in el:\n",
    "        if e in word2vec.wv:\n",
    "            sentense.append(e)\n",
    "        else:\n",
    "            sentense.extend(cut(e))\n",
    "    _content_cut.append(sentense)\n",
    "content_cut = _content_cut"
   ]
  },
  {
   "cell_type": "code",
   "execution_count": 31,
   "metadata": {},
   "outputs": [
    {
     "name": "stderr",
     "output_type": "stream",
     "text": [
      "C:\\Users\\liuni\\Anaconda3\\lib\\site-packages\\ipykernel_launcher.py:1: DeprecationWarning: Call to deprecated `wv` (Attribute will be removed in 4.0.0, use self instead).\n",
      "  \"\"\"Entry point for launching an IPython kernel.\n"
     ]
    }
   ],
   "source": [
    "content_cut = [[e for e in el if e in word2vec.wv][:truncate] for el in content_cut]"
   ]
  },
  {
   "cell_type": "code",
   "execution_count": 32,
   "metadata": {},
   "outputs": [],
   "source": [
    "df['content'] = content_cut"
   ]
  },
  {
   "cell_type": "code",
   "execution_count": 33,
   "metadata": {},
   "outputs": [],
   "source": [
    "# pickle.dump(content_cut, open('validation.pkl', 'wb'))\n",
    "df.to_pickle('validation.pkl')"
   ]
  },
  {
   "cell_type": "code",
   "execution_count": null,
   "metadata": {},
   "outputs": [],
   "source": []
  },
  {
   "cell_type": "code",
   "execution_count": null,
   "metadata": {},
   "outputs": [],
   "source": []
  }
 ],
 "metadata": {
  "kernelspec": {
   "display_name": "Python 3",
   "language": "python",
   "name": "python3"
  },
  "language_info": {
   "codemirror_mode": {
    "name": "ipython",
    "version": 3
   },
   "file_extension": ".py",
   "mimetype": "text/x-python",
   "name": "python",
   "nbconvert_exporter": "python",
   "pygments_lexer": "ipython3",
   "version": "3.7.4"
  }
 },
 "nbformat": 4,
 "nbformat_minor": 2
}
