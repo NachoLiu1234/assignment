{
  "nbformat": 4,
  "nbformat_minor": 0,
  "metadata": {
    "kernelspec": {
      "name": "python3",
      "display_name": "Python 3"
    },
    "colab": {
      "name": "train.ipynb",
      "provenance": [],
      "collapsed_sections": [],
      "machine_shape": "hm"
    },
    "accelerator": "GPU"
  },
  "cells": [
    {
      "cell_type": "code",
      "metadata": {
        "id": "8SJEmgSvxJgN",
        "colab_type": "code",
        "outputId": "bdba32a2-4472-45e6-f6f4-9cfe73ddf005",
        "colab": {
          "base_uri": "https://localhost:8080/",
          "height": 323
        }
      },
      "source": [
        "! /opt/bin/nvidia-smi"
      ],
      "execution_count": 0,
      "outputs": [
        {
          "output_type": "stream",
          "text": [
            "Thu Jan 16 23:22:21 2020       \n",
            "+-----------------------------------------------------------------------------+\n",
            "| NVIDIA-SMI 418.67       Driver Version: 418.67       CUDA Version: 10.1     |\n",
            "|-------------------------------+----------------------+----------------------+\n",
            "| GPU  Name        Persistence-M| Bus-Id        Disp.A | Volatile Uncorr. ECC |\n",
            "| Fan  Temp  Perf  Pwr:Usage/Cap|         Memory-Usage | GPU-Util  Compute M. |\n",
            "|===============================+======================+======================|\n",
            "|   0  Tesla P100-PCIE...  Off  | 00000000:00:04.0 Off |                    0 |\n",
            "| N/A   39C    P0    28W / 250W |      0MiB / 16280MiB |      0%      Default |\n",
            "+-------------------------------+----------------------+----------------------+\n",
            "                                                                               \n",
            "+-----------------------------------------------------------------------------+\n",
            "| Processes:                                                       GPU Memory |\n",
            "|  GPU       PID   Type   Process name                             Usage      |\n",
            "|=============================================================================|\n",
            "|  No running processes found                                                 |\n",
            "+-----------------------------------------------------------------------------+\n"
          ],
          "name": "stdout"
        }
      ]
    },
    {
      "cell_type": "code",
      "metadata": {
        "id": "6XJRkA3qY4jf",
        "colab_type": "code",
        "outputId": "2a03126f-83f6-460b-d104-3dabb1011fbd",
        "colab": {
          "base_uri": "https://localhost:8080/",
          "height": 64
        }
      },
      "source": [
        "import tensorflow as tf\n",
        "import pandas as pd\n",
        "import numpy as np\n",
        "import matplotlib\n",
        "import time\n",
        "import gensim\n",
        "import pickle, json\n",
        "%matplotlib inline\n",
        "from matplotlib import pyplot as plt\n",
        "from collections import Counter"
      ],
      "execution_count": 0,
      "outputs": [
        {
          "output_type": "display_data",
          "data": {
            "text/html": [
              "<p style=\"color: red;\">\n",
              "The default version of TensorFlow in Colab will soon switch to TensorFlow 2.x.<br>\n",
              "We recommend you <a href=\"https://www.tensorflow.org/guide/migrate\" target=\"_blank\">upgrade</a> now \n",
              "or ensure your notebook will continue to use TensorFlow 1.x via the <code>%tensorflow_version 1.x</code> magic:\n",
              "<a href=\"https://colab.research.google.com/notebooks/tensorflow_version.ipynb\" target=\"_blank\">more info</a>.</p>\n"
            ],
            "text/plain": [
              "<IPython.core.display.HTML object>"
            ]
          },
          "metadata": {
            "tags": []
          }
        }
      ]
    },
    {
      "cell_type": "code",
      "metadata": {
        "id": "RzR6i3dIY4jj",
        "colab_type": "code",
        "colab": {}
      },
      "source": [
        "training_path = '/content/drive/My Drive/Colab Notebooks/project2/train.pkl'\n",
        "validation_path = '/content/drive/My Drive/Colab Notebooks/project2/validation.pkl'\n",
        "word2vec_path = '/content/drive/My Drive/Colab Notebooks/project2/cn.cbow.bin'\n",
        "history_path = '/content/drive/My Drive/Colab Notebooks/project2/model/history_%s.json'\n",
        "model_path = '/content/drive/My Drive/Colab Notebooks/project2/model/model_%s.tf'\n",
        "\n",
        "to_categorical = {\n",
        "  -2: np.array([1., 0., 0., 0.], dtype=np.float32),\n",
        "  -1: np.array([0., 1., 0., 0.], dtype=np.float32),\n",
        "  0: np.array([0., 0., 1., 0.], dtype=np.float32),\n",
        "  1: np.array([0., 0., 0., 1.], dtype=np.float32),\n",
        "}"
      ],
      "execution_count": 0,
      "outputs": []
    },
    {
      "cell_type": "code",
      "metadata": {
        "id": "Miifu3UCY4jm",
        "colab_type": "code",
        "colab": {}
      },
      "source": [
        "train = pickle.load(open(training_path, 'rb'))\n",
        "validation = pickle.load(open(validation_path, 'rb'))"
      ],
      "execution_count": 0,
      "outputs": []
    },
    {
      "cell_type": "code",
      "metadata": {
        "id": "YHAgErRjY4jo",
        "colab_type": "code",
        "colab": {}
      },
      "source": [
        "columns = ['location_traffic_convenience',\n",
        "   'location_distance_from_business_district', 'location_easy_to_find',\n",
        "   'service_wait_time', 'service_waiters_attitude',\n",
        "   'service_parking_convenience', 'service_serving_speed', 'price_level',\n",
        "   'price_cost_effective', 'price_discount', 'environment_decoration',\n",
        "   'environment_noise', 'environment_space', 'environment_cleaness',\n",
        "   'dish_portion', 'dish_taste', 'dish_look', 'dish_recommendation',\n",
        "   'others_overall_experience', 'others_willing_to_consume_again']\n",
        "\n",
        "train_ground_truth = {k: train[k].to_list() for k in columns}\n",
        "validation_ground_truth = {k: validation[k].to_list() for k in columns}\n",
        "output = columns[0]\n",
        "\n",
        "batch_size = 8\n",
        "truncate = 450\n",
        "dimension = 300"
      ],
      "execution_count": 0,
      "outputs": []
    },
    {
      "cell_type": "code",
      "metadata": {
        "id": "8laXLaaAY4jv",
        "colab_type": "code",
        "colab": {}
      },
      "source": [
        "train = train[['content', output]]\n",
        "train.columns = ['x', 'y']"
      ],
      "execution_count": 0,
      "outputs": []
    },
    {
      "cell_type": "code",
      "metadata": {
        "id": "cq2gFKmoY4jy",
        "colab_type": "code",
        "colab": {}
      },
      "source": [
        "validation = validation[['content', output]]\n",
        "validation.columns = ['x', 'y']"
      ],
      "execution_count": 0,
      "outputs": []
    },
    {
      "cell_type": "code",
      "metadata": {
        "id": "gLEJAE0xY4j0",
        "colab_type": "code",
        "outputId": "e62dc925-085f-455d-dd3e-d01570717d21",
        "colab": {
          "base_uri": "https://localhost:8080/",
          "height": 53
        }
      },
      "source": [
        "word2vec = gensim.models.KeyedVectors.load_word2vec_format(word2vec_path, binary=True, unicode_errors='ignore')"
      ],
      "execution_count": 0,
      "outputs": [
        {
          "output_type": "stream",
          "text": [
            "/usr/local/lib/python3.6/dist-packages/smart_open/smart_open_lib.py:402: UserWarning: This function is deprecated, use smart_open.open instead. See the migration notes for details: https://github.com/RaRe-Technologies/smart_open/blob/master/README.rst#migrating-to-the-new-open-function\n",
            "  'See the migration notes for details: %s' % _MIGRATION_NOTES_URL\n"
          ],
          "name": "stderr"
        }
      ]
    },
    {
      "cell_type": "code",
      "metadata": {
        "scrolled": false,
        "id": "JYnulzjDY4j2",
        "colab_type": "code",
        "colab": {}
      },
      "source": [
        "x_train = train['x'].to_list()\n",
        "x_validation = validation['x'].to_list()"
      ],
      "execution_count": 0,
      "outputs": []
    },
    {
      "cell_type": "code",
      "metadata": {
        "id": "I-qN0vqFY4j4",
        "colab_type": "code",
        "outputId": "55b6589c-ffcf-4d4e-d3d5-b5e9fd1a99ff",
        "colab": {
          "base_uri": "https://localhost:8080/",
          "height": 89
        }
      },
      "source": [
        "x_train = [word2vec.wv[el]  for el in x_train]\n",
        "x_validation = [word2vec.wv[el]  for el in x_validation]\n",
        "del word2vec"
      ],
      "execution_count": 0,
      "outputs": [
        {
          "output_type": "stream",
          "text": [
            "/usr/local/lib/python3.6/dist-packages/ipykernel_launcher.py:1: DeprecationWarning: Call to deprecated `wv` (Attribute will be removed in 4.0.0, use self instead).\n",
            "  \"\"\"Entry point for launching an IPython kernel.\n",
            "/usr/local/lib/python3.6/dist-packages/ipykernel_launcher.py:2: DeprecationWarning: Call to deprecated `wv` (Attribute will be removed in 4.0.0, use self instead).\n",
            "  \n"
          ],
          "name": "stderr"
        }
      ]
    },
    {
      "cell_type": "code",
      "metadata": {
        "id": "sY7v8ATSHXj8",
        "colab_type": "code",
        "colab": {}
      },
      "source": [
        "class CIFAR10Sequence(tf.keras.utils.Sequence):\n",
        "    def __init__(self, x, y, batch_size, class_weight=None):\n",
        "      assert len(x) == len(y), '输入输出长度不匹配'\n",
        "\n",
        "      self.x = x\n",
        "      # self.y = tf.keras.utils.to_categorical(y, 4)\n",
        "      self.y = [to_categorical[el] for el in y]\n",
        "      self.batch_size = batch_size\n",
        "      self.add = [np.zeros(300, dtype=np.float32)]\n",
        "      self.truncate = 450\n",
        "      self.dimension = 300\n",
        "      self.sample_weight = None\n",
        "      if class_weight:\n",
        "        std = np.std([el for el in class_weight.values()])\n",
        "        class_weight = {k: v / std for k, v in class_weight.items()}\n",
        "        self.sample_weight = np.array([class_weight[el] for el in y])\n",
        "\n",
        "    def __len__(self):\n",
        "      return len(self.x) // self.batch_size\n",
        "\n",
        "    def __getitem__(self, idx):\n",
        "      batch_x = self.x[idx * self.batch_size: (idx + 1) * self.batch_size]\n",
        "      batch_x = [np.append(el, self.add * (self.truncate - el.shape[0]), axis=0) if el.shape[0] < self.truncate else el for el in batch_x]\n",
        "      batch_y = self.y[idx * self.batch_size: (idx + 1) * self.batch_size]\n",
        "\n",
        "      if self.sample_weight is None:\n",
        "        return np.array(batch_x), np.array(batch_y)\n",
        "\n",
        "      sample_weight = self.sample_weight[idx * self.batch_size: (idx + 1) * self.batch_size]\n",
        "      return np.array(batch_x), np.array(batch_y), np.array(sample_weight)\n",
        "\n",
        "\n",
        "      # batch_x = tf.convert_to_tensor(batch_x, dtype=tf.float32)\n",
        "      # batch_y = tf.convert_to_tensor(batch_y, dtype=tf.float32)\n",
        "      # return batch_x, batch_y\n"
      ],
      "execution_count": 0,
      "outputs": []
    },
    {
      "cell_type": "code",
      "metadata": {
        "id": "mvdE_VsPHvnB",
        "colab_type": "code",
        "colab": {}
      },
      "source": [
        ""
      ],
      "execution_count": 0,
      "outputs": []
    },
    {
      "cell_type": "code",
      "metadata": {
        "id": "e76xFjeyHX3k",
        "colab_type": "code",
        "colab": {}
      },
      "source": [
        "def make_model():\n",
        "  activation = 'relu'\n",
        "  activation2 = 'relu'\n",
        "  dropout = 0.5\n",
        "\n",
        "  model = tf.keras.Sequential([\n",
        "      tf.keras.layers.Conv1D(filters=16, kernel_size=3, strides=1, input_shape=(truncate, dimension)),\n",
        "      tf.keras.layers.BatchNormalization(),\n",
        "      tf.keras.layers.Activation(activation),\n",
        "      tf.keras.layers.MaxPooling1D(padding='same'),\n",
        "\n",
        "      tf.keras.layers.Conv1D(filters=32, kernel_size=3, strides=1),\n",
        "      tf.keras.layers.BatchNormalization(),\n",
        "      tf.keras.layers.Activation(activation),\n",
        "      tf.keras.layers.MaxPooling1D(padding='same'),\n",
        "\n",
        "      tf.keras.layers.Conv1D(filters=64, kernel_size=3, strides=1),\n",
        "      tf.keras.layers.BatchNormalization(),\n",
        "      tf.keras.layers.Activation(activation),\n",
        "      tf.keras.layers.MaxPooling1D(padding='same'),\n",
        "\n",
        "      tf.keras.layers.Conv1D(filters=64, kernel_size=3, strides=1),\n",
        "      tf.keras.layers.BatchNormalization(),\n",
        "      tf.keras.layers.Activation(activation),\n",
        "      tf.keras.layers.MaxPooling1D(padding='same'),\n",
        "\n",
        "      tf.keras.layers.Conv1D(filters=64, kernel_size=3, strides=1),\n",
        "      tf.keras.layers.BatchNormalization(),\n",
        "      tf.keras.layers.Activation(activation),\n",
        "      tf.keras.layers.MaxPooling1D(padding='same'),\n",
        "\n",
        "      tf.keras.layers.Flatten(),\n",
        "\n",
        "      tf.keras.layers.Dense(16),\n",
        "      tf.keras.layers.BatchNormalization(),\n",
        "      tf.keras.layers.Activation(activation2),\n",
        "      tf.keras.layers.Dropout(dropout),\n",
        "\n",
        "      tf.keras.layers.Dense(8),\n",
        "      tf.keras.layers.BatchNormalization(),\n",
        "      tf.keras.layers.Activation(activation2),\n",
        "      tf.keras.layers.Dropout(dropout),\n",
        "\n",
        "      tf.keras.layers.Dense(4),\n",
        "      tf.keras.layers.Softmax(),\n",
        "  ])\n",
        "  \n",
        "  model.compile(optimizer=tf.keras.optimizers.SGD(0.01),\n",
        "                loss='categorical_crossentropy',\n",
        "                metrics = ['categorical_accuracy', 'AUC', 'Precision', 'Recall'])\n",
        "  return model"
      ],
      "execution_count": 0,
      "outputs": []
    },
    {
      "cell_type": "code",
      "metadata": {
        "id": "2y_mhUa_V80t",
        "colab_type": "code",
        "colab": {}
      },
      "source": [
        ""
      ],
      "execution_count": 0,
      "outputs": []
    },
    {
      "cell_type": "code",
      "metadata": {
        "id": "vOZlPSGcVV0P",
        "colab_type": "code",
        "colab": {}
      },
      "source": [
        ""
      ],
      "execution_count": 0,
      "outputs": []
    },
    {
      "cell_type": "code",
      "metadata": {
        "id": "RE3MEERASdKY",
        "colab_type": "code",
        "outputId": "c44a9e28-1715-407b-965c-2532bd04aae1",
        "colab": {
          "base_uri": "https://localhost:8080/",
          "height": 1000
        }
      },
      "source": [
        "# columns = ['location_traffic_convenience',\n",
        "#    'location_distance_from_business_district', 'location_easy_to_find',\n",
        "#    'service_wait_time', 'service_waiters_attitude',\n",
        "#    'service_parking_convenience', 'service_serving_speed', 'price_level',\n",
        "#    'price_cost_effective', 'price_discount', 'environment_decoration',\n",
        "#    'environment_noise', 'environment_space', 'environment_cleaness',\n",
        "#    'dish_portion', 'dish_taste', 'dish_look', 'dish_recommendation',\n",
        "#    'others_overall_experience', 'others_willing_to_consume_again']\n",
        "\n",
        "# finished_field = 'dish_recommendation '.strip()\n",
        "# columns = columns[columns.index(finished_field) + 1:] if finished_field else columns\n",
        "\n",
        "# epochs = 10\n",
        "\n",
        "# for index, key in enumerate(columns):\n",
        "#   print(key)\n",
        "\n",
        "#   model = make_model()\n",
        "  \n",
        "#   y_train = train_ground_truth[key]\n",
        "#   y_validation = validation_ground_truth[key]\n",
        "\n",
        "#   class_weight = {k: len(y_validation) / v for k, v in Counter(y_validation).items()}\n",
        "  \n",
        "#   train = CIFAR10Sequence(x_train, y_train, batch_size, class_weight)\n",
        "#   validation = CIFAR10Sequence(x_validation, y_validation, batch_size)\n",
        "\n",
        "#   H = model.fit_generator(train, steps_per_epoch=len(train), epochs=epochs, validation_data=validation, validation_steps=len(validation), verbose=2)\n",
        "#   model.save(model_path % key)\n",
        "#   with open(history_path % key, 'w') as f:\n",
        "#     f.write(json.dumps({k:[float(el) for el in v] for k, v in dict(H.history).items()}) + '\\n')\n",
        "#   print(f'{key} model saved\\n############################################################################################################################################################')"
      ],
      "execution_count": 0,
      "outputs": [
        {
          "output_type": "stream",
          "text": [
            "others_overall_experience\n",
            "WARNING:tensorflow:From /usr/local/lib/python3.6/dist-packages/tensorflow_core/python/ops/resource_variable_ops.py:1630: calling BaseResourceVariable.__init__ (from tensorflow.python.ops.resource_variable_ops) with constraint is deprecated and will be removed in a future version.\n",
            "Instructions for updating:\n",
            "If using Keras pass *_constraint arguments to layers.\n",
            "Epoch 1/10\n",
            "Epoch 1/10\n",
            "13125/13125 - 236s - loss: 0.2676 - categorical_accuracy: 0.3410 - auc: 0.5995 - precision: 0.4764 - recall: 0.0434 - val_loss: 1.1384 - val_categorical_accuracy: 0.6851 - val_auc: 0.7839 - val_precision: 0.8607 - val_recall: 0.0910\n",
            "Epoch 2/10\n",
            "Epoch 1/10\n",
            "13125/13125 - 228s - loss: 0.2463 - categorical_accuracy: 0.4475 - auc: 0.6884 - precision: 0.6107 - recall: 0.0783 - val_loss: 1.2010 - val_categorical_accuracy: 0.5789 - val_auc: 0.7278 - val_precision: 0.6648 - val_recall: 0.0947\n",
            "Epoch 3/10\n",
            "Epoch 1/10\n",
            "13125/13125 - 229s - loss: 0.2409 - categorical_accuracy: 0.4390 - auc: 0.7029 - precision: 0.6569 - recall: 0.1015 - val_loss: 1.0935 - val_categorical_accuracy: 0.6733 - val_auc: 0.7878 - val_precision: 0.7652 - val_recall: 0.0787\n",
            "Epoch 4/10\n",
            "Epoch 1/10\n",
            "13125/13125 - 228s - loss: 0.2372 - categorical_accuracy: 0.4157 - auc: 0.7088 - precision: 0.6154 - recall: 0.0940 - val_loss: 1.1027 - val_categorical_accuracy: 0.6142 - val_auc: 0.7813 - val_precision: 0.6901 - val_recall: 0.0674\n",
            "Epoch 5/10\n",
            "Epoch 1/10\n",
            "13125/13125 - 224s - loss: 0.2333 - categorical_accuracy: 0.3750 - auc: 0.7056 - precision: 0.5675 - recall: 0.0874 - val_loss: 1.0677 - val_categorical_accuracy: 0.7117 - val_auc: 0.7948 - val_precision: 0.6536 - val_recall: 0.0621\n",
            "Epoch 6/10\n",
            "Epoch 1/10\n",
            "13125/13125 - 226s - loss: 0.2316 - categorical_accuracy: 0.4006 - auc: 0.7132 - precision: 0.5470 - recall: 0.0789 - val_loss: 1.0621 - val_categorical_accuracy: 0.6148 - val_auc: 0.7944 - val_precision: 0.7353 - val_recall: 0.0643\n",
            "Epoch 7/10\n",
            "Epoch 1/10\n",
            "13125/13125 - 224s - loss: 0.2288 - categorical_accuracy: 0.3558 - auc: 0.7071 - precision: 0.5319 - recall: 0.0860 - val_loss: 1.0993 - val_categorical_accuracy: 0.4265 - val_auc: 0.7655 - val_precision: 0.6575 - val_recall: 0.0541\n",
            "Epoch 8/10\n",
            "Epoch 1/10\n",
            "13125/13125 - 223s - loss: 0.2270 - categorical_accuracy: 0.3281 - auc: 0.7057 - precision: 0.5058 - recall: 0.0886 - val_loss: 1.1292 - val_categorical_accuracy: 0.1135 - val_auc: 0.7091 - val_precision: 0.5559 - val_recall: 0.0544\n",
            "Epoch 9/10\n",
            "Epoch 1/10\n",
            "13125/13125 - 230s - loss: 0.2250 - categorical_accuracy: 0.2781 - auc: 0.6962 - precision: 0.4834 - recall: 0.0798 - val_loss: 1.1667 - val_categorical_accuracy: 0.1975 - val_auc: 0.7129 - val_precision: 0.4900 - val_recall: 0.0721\n",
            "Epoch 10/10\n",
            "Epoch 1/10\n",
            "13125/13125 - 229s - loss: 0.2231 - categorical_accuracy: 0.2602 - auc: 0.6915 - precision: 0.4338 - recall: 0.0774 - val_loss: 1.1093 - val_categorical_accuracy: 0.5235 - val_auc: 0.7596 - val_precision: 0.5922 - val_recall: 0.0947\n",
            "others_overall_experience model saved\n",
            "############################################################################################################################################################\n",
            "others_willing_to_consume_again\n",
            "Epoch 1/10\n",
            "Epoch 1/10\n",
            "13125/13125 - 227s - loss: 0.3605 - categorical_accuracy: 0.2540 - auc_2: 0.5683 - precision_2: 0.2313 - recall_2: 0.0126 - val_loss: 1.2554 - val_categorical_accuracy: 0.3405 - val_auc_2: 0.7053 - val_precision_2: 0.3706 - val_recall_2: 0.0119\n",
            "Epoch 2/10\n",
            "Epoch 1/10\n",
            "13125/13125 - 225s - loss: 0.3308 - categorical_accuracy: 0.3404 - auc_2: 0.6684 - precision_2: 0.3823 - recall_2: 0.0516 - val_loss: 1.1887 - val_categorical_accuracy: 0.3997 - val_auc_2: 0.7306 - val_precision_2: 0.6007 - val_recall_2: 0.1028\n",
            "Epoch 3/10\n",
            "Epoch 1/10\n",
            "13125/13125 - 225s - loss: 0.3197 - categorical_accuracy: 0.3896 - auc_2: 0.6937 - precision_2: 0.4589 - recall_2: 0.0929 - val_loss: 1.1373 - val_categorical_accuracy: 0.4489 - val_auc_2: 0.7665 - val_precision_2: 0.6843 - val_recall_2: 0.1406\n",
            "Epoch 4/10\n",
            "Epoch 1/10\n",
            "13125/13125 - 233s - loss: 0.3100 - categorical_accuracy: 0.4341 - auc_2: 0.7182 - precision_2: 0.5009 - recall_2: 0.1199 - val_loss: 1.0772 - val_categorical_accuracy: 0.5078 - val_auc_2: 0.8019 - val_precision_2: 0.7325 - val_recall_2: 0.1749\n",
            "Epoch 5/10\n",
            "Epoch 1/10\n",
            "13125/13125 - 231s - loss: 0.3058 - categorical_accuracy: 0.4688 - auc_2: 0.7330 - precision_2: 0.5139 - recall_2: 0.1275 - val_loss: 1.1517 - val_categorical_accuracy: 0.5082 - val_auc_2: 0.7645 - val_precision_2: 0.7230 - val_recall_2: 0.1387\n",
            "Epoch 6/10\n",
            "Epoch 1/10\n",
            "13125/13125 - 226s - loss: 0.3003 - categorical_accuracy: 0.4798 - auc_2: 0.7437 - precision_2: 0.5169 - recall_2: 0.1361 - val_loss: 1.0766 - val_categorical_accuracy: 0.5512 - val_auc_2: 0.8055 - val_precision_2: 0.7266 - val_recall_2: 0.1788\n",
            "Epoch 7/10\n",
            "Epoch 1/10\n",
            "13125/13125 - 229s - loss: 0.2967 - categorical_accuracy: 0.4839 - auc_2: 0.7490 - precision_2: 0.5281 - recall_2: 0.1415 - val_loss: 1.0074 - val_categorical_accuracy: 0.5512 - val_auc_2: 0.8358 - val_precision_2: 0.6641 - val_recall_2: 0.2118\n",
            "Epoch 8/10\n",
            "Epoch 1/10\n",
            "13125/13125 - 231s - loss: 0.2970 - categorical_accuracy: 0.4905 - auc_2: 0.7534 - precision_2: 0.5177 - recall_2: 0.1400 - val_loss: 1.0627 - val_categorical_accuracy: 0.5372 - val_auc_2: 0.8036 - val_precision_2: 0.7053 - val_recall_2: 0.1863\n",
            "Epoch 9/10\n",
            "Epoch 1/10\n",
            "13125/13125 - 228s - loss: 0.2928 - categorical_accuracy: 0.4908 - auc_2: 0.7573 - precision_2: 0.5318 - recall_2: 0.1466 - val_loss: 1.0778 - val_categorical_accuracy: 0.5703 - val_auc_2: 0.8072 - val_precision_2: 0.7274 - val_recall_2: 0.1691\n",
            "Epoch 10/10\n",
            "Epoch 1/10\n",
            "13125/13125 - 229s - loss: 0.2891 - categorical_accuracy: 0.5057 - auc_2: 0.7666 - precision_2: 0.5378 - recall_2: 0.1531 - val_loss: 0.9923 - val_categorical_accuracy: 0.5625 - val_auc_2: 0.8330 - val_precision_2: 0.6623 - val_recall_2: 0.2239\n",
            "others_willing_to_consume_again model saved\n",
            "############################################################################################################################################################\n"
          ],
          "name": "stdout"
        }
      ]
    },
    {
      "cell_type": "code",
      "metadata": {
        "id": "FqRcc8OZlaGz",
        "colab_type": "code",
        "outputId": "7612e187-cb3f-420a-99b8-66e19a02fe22",
        "colab": {
          "base_uri": "https://localhost:8080/",
          "height": 611
        }
      },
      "source": [
        "# 重新训练\n",
        "\n",
        "columns = ['others_overall_experience', ]\n",
        "\n",
        "epochs = 10\n",
        "\n",
        "for index, key in enumerate(columns):\n",
        "  print(key)\n",
        "\n",
        "  model = make_model()\n",
        "  \n",
        "  y_train = train_ground_truth[key]\n",
        "  y_validation = validation_ground_truth[key]\n",
        "\n",
        "  class_weight = {k: len(y_validation) / v for k, v in Counter(y_validation).items()}\n",
        "  \n",
        "  train = CIFAR10Sequence(x_train, y_train, batch_size, class_weight)\n",
        "  validation = CIFAR10Sequence(x_validation, y_validation, batch_size)\n",
        "\n",
        "  H = model.fit_generator(train, steps_per_epoch=len(train), epochs=epochs, validation_data=validation, validation_steps=len(validation), verbose=2)\n",
        "  model.save(model_path % key)\n",
        "  with open(history_path % key, 'w') as f:\n",
        "    f.write(json.dumps({k:[float(el) for el in v] for k, v in dict(H.history).items()}) + '\\n')\n",
        "  print(f'{key} model saved\\n############################################################################################################################################################')\n",
        "problem_columns = ['location_distance_from_business_district']"
      ],
      "execution_count": 0,
      "outputs": [
        {
          "output_type": "stream",
          "text": [
            "others_overall_experience\n",
            "Epoch 1/10\n",
            "Epoch 1/10\n",
            "13125/13125 - 234s - loss: 0.2667 - categorical_accuracy: 0.2850 - auc: 0.5993 - precision: 0.4244 - recall: 0.0421 - val_loss: 1.1795 - val_categorical_accuracy: 0.5063 - val_auc: 0.7450 - val_precision: 0.7749 - val_recall: 0.0535\n",
            "Epoch 2/10\n",
            "Epoch 1/10\n",
            "13125/13125 - 221s - loss: 0.2473 - categorical_accuracy: 0.3782 - auc: 0.6657 - precision: 0.6022 - recall: 0.0772 - val_loss: 1.1556 - val_categorical_accuracy: 0.4611 - val_auc: 0.7497 - val_precision: 0.6566 - val_recall: 0.0509\n",
            "Epoch 3/10\n",
            "Epoch 1/10\n",
            "13125/13125 - 220s - loss: 0.2404 - categorical_accuracy: 0.3928 - auc: 0.6913 - precision: 0.6039 - recall: 0.0914 - val_loss: 1.2276 - val_categorical_accuracy: 0.1079 - val_auc: 0.6673 - val_precision: 0.6022 - val_recall: 0.0552\n",
            "Epoch 4/10\n",
            "Epoch 1/10\n",
            "13125/13125 - 223s - loss: 0.2375 - categorical_accuracy: 0.3760 - auc: 0.6962 - precision: 0.6110 - recall: 0.1019 - val_loss: 1.1695 - val_categorical_accuracy: 0.2889 - val_auc: 0.7180 - val_precision: 0.5621 - val_recall: 0.0639\n",
            "Epoch 5/10\n",
            "Epoch 1/10\n",
            "13125/13125 - 219s - loss: 0.2339 - categorical_accuracy: 0.3651 - auc: 0.6951 - precision: 0.5736 - recall: 0.0945 - val_loss: 1.2448 - val_categorical_accuracy: 0.3336 - val_auc: 0.6742 - val_precision: 0.4703 - val_recall: 0.0717\n",
            "Epoch 6/10\n",
            "Epoch 1/10\n",
            "13125/13125 - 220s - loss: 0.2316 - categorical_accuracy: 0.3704 - auc: 0.6974 - precision: 0.5822 - recall: 0.1004 - val_loss: 1.1407 - val_categorical_accuracy: 0.3150 - val_auc: 0.7276 - val_precision: 0.5846 - val_recall: 0.0668\n",
            "Epoch 7/10\n",
            "Epoch 1/10\n",
            "13125/13125 - 222s - loss: 0.2304 - categorical_accuracy: 0.3591 - auc: 0.6966 - precision: 0.5670 - recall: 0.1015 - val_loss: 1.0935 - val_categorical_accuracy: 0.4350 - val_auc: 0.7595 - val_precision: 0.6546 - val_recall: 0.0745\n",
            "Epoch 8/10\n",
            "Epoch 1/10\n",
            "13125/13125 - 221s - loss: 0.2274 - categorical_accuracy: 0.3264 - auc: 0.6915 - precision: 0.4982 - recall: 0.0893 - val_loss: 1.1399 - val_categorical_accuracy: 0.1160 - val_auc: 0.7048 - val_precision: 0.5548 - val_recall: 0.0645\n",
            "Epoch 9/10\n",
            "Epoch 1/10\n",
            "13125/13125 - 223s - loss: 0.2255 - categorical_accuracy: 0.2950 - auc: 0.6908 - precision: 0.4498 - recall: 0.0817 - val_loss: 1.0929 - val_categorical_accuracy: 0.4991 - val_auc: 0.7601 - val_precision: 0.5695 - val_recall: 0.0699\n",
            "Epoch 10/10\n",
            "Epoch 1/10\n",
            "13125/13125 - 226s - loss: 0.2239 - categorical_accuracy: 0.2810 - auc: 0.6880 - precision: 0.3953 - recall: 0.0735 - val_loss: 1.0911 - val_categorical_accuracy: 0.6317 - val_auc: 0.7691 - val_precision: 0.5333 - val_recall: 0.0827\n",
            "others_overall_experience model saved\n",
            "############################################################################################################################################################\n"
          ],
          "name": "stdout"
        }
      ]
    },
    {
      "cell_type": "code",
      "metadata": {
        "id": "Ra9HXPrrJXEi",
        "colab_type": "code",
        "colab": {}
      },
      "source": [
        "# # 再训练几个epoch\n",
        "\n",
        "# columns = ['environment_decoration']\n",
        "\n",
        "# finished_field = ''.strip()\n",
        "# columns = columns[columns.index(finished_field) + 1:] if finished_field else columns\n",
        "\n",
        "# epochs = 5\n",
        "\n",
        "# for index, key in enumerate(columns):\n",
        "#   model = tf.keras.models.load_model(model_path % key)\n",
        "\n",
        "#   y_train = train_ground_truth[key]\n",
        "#   y_validation = validation_ground_truth[key]\n",
        "\n",
        "#   class_weight = {k: len(y_validation) / v * 15 for k, v in Counter(y_validation).items()}\n",
        "  \n",
        "#   train = CIFAR10Sequence(x_train, y_train, batch_size, class_weight)\n",
        "#   validation = CIFAR10Sequence(x_validation, y_validation, batch_size)\n",
        "\n",
        "#   H = model.fit_generator(train, steps_per_epoch=len(train), epochs=epochs, validation_data=validation, validation_steps=len(validation), verbose=2)\n",
        "#   model.save(model_path % key)\n",
        "#   with open(history_path % key, 'a') as f:\n",
        "#     f.write(json.dumps({k:[float(el) for el in v] for k, v in dict(H.history).items()}) + '\\n')\n",
        "#   print(f'#####################################################\\n{key} model saved')"
      ],
      "execution_count": 0,
      "outputs": []
    },
    {
      "cell_type": "code",
      "metadata": {
        "id": "uWq5i3YGSdGW",
        "colab_type": "code",
        "outputId": "04900da4-d3ad-4209-e36a-f2753d009bb0",
        "colab": {
          "base_uri": "https://localhost:8080/",
          "height": 1000
        }
      },
      "source": [
        "# 用小的lr再训练\n",
        "\n",
        "columns = ['location_traffic_convenience',\n",
        "   'location_distance_from_business_district', 'location_easy_to_find',\n",
        "   'service_wait_time', 'service_waiters_attitude',\n",
        "   'service_parking_convenience', 'service_serving_speed', 'price_level',\n",
        "   'price_cost_effective', 'price_discount', 'environment_decoration',\n",
        "   'environment_noise', 'environment_space', 'environment_cleaness',\n",
        "   'dish_portion', 'dish_taste', 'dish_look', 'dish_recommendation',\n",
        "   'others_overall_experience', 'others_willing_to_consume_again']\n",
        "\n",
        "finished_field = ' '.strip()\n",
        "columns = columns[columns.index(finished_field) + 1:] if finished_field else columns\n",
        "\n",
        "epochs = 5\n",
        "lr = 0.003\n",
        "\n",
        "for index, key in enumerate(columns):\n",
        "  model = tf.keras.models.load_model(model_path % key)\n",
        "  model.compile(optimizer=tf.keras.optimizers.SGD(lr),\n",
        "                loss='categorical_crossentropy',\n",
        "                metrics = ['categorical_accuracy', 'AUC', 'Precision', 'Recall'])\n",
        "\n",
        "  y_train = train_ground_truth[key]\n",
        "  y_validation = validation_ground_truth[key]\n",
        "\n",
        "  class_weight = {k: len(y_validation) / v * 15 for k, v in Counter(y_validation).items()}\n",
        "  \n",
        "  train = CIFAR10Sequence(x_train, y_train, batch_size, class_weight)\n",
        "  validation = CIFAR10Sequence(x_validation, y_validation, batch_size)\n",
        "\n",
        "  H = model.fit_generator(train, steps_per_epoch=len(train), epochs=epochs, validation_data=validation, validation_steps=len(validation), verbose=2)\n",
        "  model.save(model_path % key)\n",
        "  with open(history_path % key, 'a') as f:\n",
        "    f.write(json.dumps({k:[float(el) for el in v] for k, v in dict(H.history).items()}) + '\\n')\n",
        "  print(f'#####################################################\\n{key} model saved')"
      ],
      "execution_count": 0,
      "outputs": [
        {
          "output_type": "stream",
          "text": [
            "Epoch 1/5\n",
            "Epoch 1/5\n",
            "13125/13125 - 240s - loss: 0.0946 - categorical_accuracy: 0.6511 - auc_44: 0.8857 - precision_44: 0.9846 - recall_44: 0.5585 - val_loss: 0.5934 - val_categorical_accuracy: 0.6939 - val_auc_44: 0.9368 - val_precision_44: 0.9828 - val_recall_44: 0.6498\n",
            "Epoch 2/5\n",
            "Epoch 1/5\n",
            "13125/13125 - 233s - loss: 0.0941 - categorical_accuracy: 0.6583 - auc_44: 0.8878 - precision_44: 0.9848 - recall_44: 0.5630 - val_loss: 0.5804 - val_categorical_accuracy: 0.6957 - val_auc_44: 0.9300 - val_precision_44: 0.9818 - val_recall_44: 0.6623\n",
            "Epoch 3/5\n",
            "Epoch 1/5\n",
            "13125/13125 - 231s - loss: 0.0938 - categorical_accuracy: 0.6416 - auc_44: 0.8859 - precision_44: 0.9851 - recall_44: 0.5671 - val_loss: 0.6077 - val_categorical_accuracy: 0.6853 - val_auc_44: 0.9216 - val_precision_44: 0.9832 - val_recall_44: 0.6466\n",
            "Epoch 4/5\n",
            "Epoch 1/5\n",
            "13125/13125 - 230s - loss: 0.0935 - categorical_accuracy: 0.6472 - auc_44: 0.8872 - precision_44: 0.9842 - recall_44: 0.5701 - val_loss: 0.5772 - val_categorical_accuracy: 0.6983 - val_auc_44: 0.9369 - val_precision_44: 0.9824 - val_recall_44: 0.6645\n",
            "Epoch 5/5\n",
            "Epoch 1/5\n",
            "13125/13125 - 231s - loss: 0.0934 - categorical_accuracy: 0.6505 - auc_44: 0.8900 - precision_44: 0.9837 - recall_44: 0.5737 - val_loss: 0.5808 - val_categorical_accuracy: 0.6969 - val_auc_44: 0.9352 - val_precision_44: 0.9820 - val_recall_44: 0.6621\n",
            "#####################################################\n",
            "location_traffic_convenience model saved\n",
            "Epoch 1/5\n",
            "Epoch 1/5\n",
            "13125/13125 - 239s - loss: 0.0538 - categorical_accuracy: 0.2319 - auc_48: 0.6023 - precision_48: 0.1692 - recall_48: 0.0167 - val_loss: 1.2983 - val_categorical_accuracy: 0.2563 - val_auc_48: 0.6121 - val_precision_48: 0.0213 - val_recall_48: 9.3333e-04\n",
            "Epoch 2/5\n",
            "Epoch 1/5\n",
            "13125/13125 - 232s - loss: 0.0531 - categorical_accuracy: 0.2270 - auc_48: 0.5983 - precision_48: 0.1651 - recall_48: 0.0185 - val_loss: 1.3076 - val_categorical_accuracy: 0.2489 - val_auc_48: 0.5981 - val_precision_48: 0.0138 - val_recall_48: 7.3333e-04\n",
            "Epoch 3/5\n",
            "Epoch 1/5\n",
            "13125/13125 - 237s - loss: 0.0523 - categorical_accuracy: 0.2221 - auc_48: 0.5933 - precision_48: 0.1461 - recall_48: 0.0188 - val_loss: 1.3005 - val_categorical_accuracy: 0.2515 - val_auc_48: 0.5983 - val_precision_48: 0.0118 - val_recall_48: 6.6667e-04\n",
            "Epoch 4/5\n",
            "Epoch 1/5\n",
            "13125/13125 - 233s - loss: 0.0505 - categorical_accuracy: 0.2171 - auc_48: 0.5917 - precision_48: 0.1419 - recall_48: 0.0197 - val_loss: 1.2798 - val_categorical_accuracy: 0.2699 - val_auc_48: 0.6151 - val_precision_48: 0.0087 - val_recall_48: 4.6667e-04\n",
            "Epoch 5/5\n",
            "Epoch 1/5\n",
            "13125/13125 - 232s - loss: 0.0497 - categorical_accuracy: 0.2211 - auc_48: 0.6005 - precision_48: 0.1467 - recall_48: 0.0216 - val_loss: 1.2761 - val_categorical_accuracy: 0.2662 - val_auc_48: 0.6131 - val_precision_48: 0.0125 - val_recall_48: 7.3333e-04\n",
            "#####################################################\n",
            "location_distance_from_business_district model saved\n",
            "Epoch 1/5\n",
            "Epoch 1/5\n",
            "13125/13125 - 239s - loss: 0.2479 - categorical_accuracy: 0.6386 - auc_52: 0.8682 - precision_52: 0.9661 - recall_52: 0.5242 - val_loss: 0.7542 - val_categorical_accuracy: 0.6504 - val_auc_52: 0.8870 - val_precision_52: 0.9655 - val_recall_52: 0.5723\n",
            "Epoch 2/5\n",
            "Epoch 1/5\n",
            "13125/13125 - 235s - loss: 0.2468 - categorical_accuracy: 0.6405 - auc_52: 0.8690 - precision_52: 0.9626 - recall_52: 0.5263 - val_loss: 0.6333 - val_categorical_accuracy: 0.7231 - val_auc_52: 0.9255 - val_precision_52: 0.9638 - val_recall_52: 0.6324\n",
            "Epoch 3/5\n",
            "Epoch 1/5\n",
            "13125/13125 - 234s - loss: 0.2458 - categorical_accuracy: 0.6334 - auc_52: 0.8666 - precision_52: 0.9543 - recall_52: 0.5225 - val_loss: 0.6924 - val_categorical_accuracy: 0.6890 - val_auc_52: 0.9096 - val_precision_52: 0.9712 - val_recall_52: 0.5829\n",
            "Epoch 4/5\n",
            "Epoch 1/5\n",
            "13125/13125 - 233s - loss: 0.2438 - categorical_accuracy: 0.6432 - auc_52: 0.8730 - precision_52: 0.9511 - recall_52: 0.5323 - val_loss: 0.8004 - val_categorical_accuracy: 0.6490 - val_auc_52: 0.8807 - val_precision_52: 0.9511 - val_recall_52: 0.5771\n",
            "Epoch 5/5\n",
            "Epoch 1/5\n",
            "13125/13125 - 234s - loss: 0.2424 - categorical_accuracy: 0.6418 - auc_52: 0.8731 - precision_52: 0.9535 - recall_52: 0.5304 - val_loss: 0.6573 - val_categorical_accuracy: 0.7480 - val_auc_52: 0.9249 - val_precision_52: 0.9495 - val_recall_52: 0.6385\n",
            "#####################################################\n",
            "location_easy_to_find model saved\n",
            "Epoch 1/5\n",
            "Epoch 1/5\n",
            "13125/13125 - 244s - loss: 0.3820 - categorical_accuracy: 0.6841 - auc_56: 0.8748 - precision_56: 0.9911 - recall_56: 0.5629 - val_loss: 0.6830 - val_categorical_accuracy: 0.7436 - val_auc_56: 0.9180 - val_precision_56: 0.9762 - val_recall_56: 0.6537\n",
            "Epoch 2/5\n",
            "Epoch 1/5\n",
            "13125/13125 - 239s - loss: 0.3804 - categorical_accuracy: 0.6844 - auc_56: 0.8767 - precision_56: 0.9915 - recall_56: 0.5663 - val_loss: 0.5762 - val_categorical_accuracy: 0.7914 - val_auc_56: 0.9432 - val_precision_56: 0.9740 - val_recall_56: 0.7116\n",
            "Epoch 3/5\n",
            "Epoch 1/5\n",
            "13125/13125 - 241s - loss: 0.3778 - categorical_accuracy: 0.6875 - auc_56: 0.8803 - precision_56: 0.9925 - recall_56: 0.5738 - val_loss: 0.6406 - val_categorical_accuracy: 0.7569 - val_auc_56: 0.9274 - val_precision_56: 0.9746 - val_recall_56: 0.6728\n",
            "Epoch 4/5\n",
            "Epoch 1/5\n",
            "13125/13125 - 237s - loss: 0.3750 - categorical_accuracy: 0.6887 - auc_56: 0.8825 - precision_56: 0.9912 - recall_56: 0.5789 - val_loss: 0.5868 - val_categorical_accuracy: 0.7774 - val_auc_56: 0.9405 - val_precision_56: 0.9741 - val_recall_56: 0.7039\n",
            "Epoch 5/5\n",
            "Epoch 1/5\n",
            "13125/13125 - 234s - loss: 0.3780 - categorical_accuracy: 0.6814 - auc_56: 0.8804 - precision_56: 0.9920 - recall_56: 0.5768 - val_loss: 0.6939 - val_categorical_accuracy: 0.7290 - val_auc_56: 0.9138 - val_precision_56: 0.9782 - val_recall_56: 0.6417\n",
            "#####################################################\n",
            "service_wait_time model saved\n",
            "Epoch 1/5\n",
            "Epoch 1/5\n",
            "13125/13125 - 244s - loss: 0.8759 - categorical_accuracy: 0.6526 - auc_60: 0.8729 - precision_60: 0.8314 - recall_60: 0.5115 - val_loss: 0.6431 - val_categorical_accuracy: 0.7691 - val_auc_60: 0.9354 - val_precision_60: 0.8819 - val_recall_60: 0.6765\n",
            "Epoch 2/5\n",
            "Epoch 1/5\n",
            "13125/13125 - 237s - loss: 0.8810 - categorical_accuracy: 0.6486 - auc_60: 0.8714 - precision_60: 0.8328 - recall_60: 0.5088 - val_loss: 0.6370 - val_categorical_accuracy: 0.7718 - val_auc_60: 0.9370 - val_precision_60: 0.8790 - val_recall_60: 0.6838\n",
            "Epoch 3/5\n",
            "Epoch 1/5\n",
            "13125/13125 - 238s - loss: 0.8755 - categorical_accuracy: 0.6514 - auc_60: 0.8731 - precision_60: 0.8337 - recall_60: 0.5134 - val_loss: 0.6269 - val_categorical_accuracy: 0.7784 - val_auc_60: 0.9391 - val_precision_60: 0.8820 - val_recall_60: 0.6849\n",
            "Epoch 4/5\n",
            "Epoch 1/5\n",
            "13125/13125 - 238s - loss: 0.8706 - categorical_accuracy: 0.6468 - auc_60: 0.8725 - precision_60: 0.8346 - recall_60: 0.5128 - val_loss: 0.6134 - val_categorical_accuracy: 0.7826 - val_auc_60: 0.9415 - val_precision_60: 0.8822 - val_recall_60: 0.6962\n",
            "Epoch 5/5\n",
            "Epoch 1/5\n",
            "13125/13125 - 240s - loss: 0.8658 - categorical_accuracy: 0.6519 - auc_60: 0.8750 - precision_60: 0.8341 - recall_60: 0.5200 - val_loss: 0.6158 - val_categorical_accuracy: 0.7815 - val_auc_60: 0.9410 - val_precision_60: 0.8796 - val_recall_60: 0.6977\n",
            "#####################################################\n",
            "service_waiters_attitude model saved\n",
            "Epoch 1/5\n",
            "Epoch 1/5\n",
            "13125/13125 - 249s - loss: 0.1278 - categorical_accuracy: 0.8657 - auc_64: 0.9607 - precision_64: 0.9978 - recall_64: 0.6824 - val_loss: 0.2020 - val_categorical_accuracy: 0.9343 - val_auc_64: 0.9915 - val_precision_64: 0.9955 - val_recall_64: 0.9090\n",
            "Epoch 2/5\n",
            "Epoch 1/5\n",
            "13125/13125 - 241s - loss: 0.1274 - categorical_accuracy: 0.8697 - auc_64: 0.9620 - precision_64: 0.9978 - recall_64: 0.6855 - val_loss: 0.2101 - val_categorical_accuracy: 0.9309 - val_auc_64: 0.9903 - val_precision_64: 0.9957 - val_recall_64: 0.9050\n",
            "Epoch 3/5\n",
            "Epoch 1/5\n",
            "13125/13125 - 239s - loss: 0.1265 - categorical_accuracy: 0.8759 - auc_64: 0.9656 - precision_64: 0.9977 - recall_64: 0.6898 - val_loss: 0.1933 - val_categorical_accuracy: 0.9340 - val_auc_64: 0.9920 - val_precision_64: 0.9955 - val_recall_64: 0.9097\n",
            "Epoch 4/5\n",
            "Epoch 1/5\n",
            "13125/13125 - 240s - loss: 0.1257 - categorical_accuracy: 0.8801 - auc_64: 0.9686 - precision_64: 0.9975 - recall_64: 0.6919 - val_loss: 0.1906 - val_categorical_accuracy: 0.9353 - val_auc_64: 0.9917 - val_precision_64: 0.9956 - val_recall_64: 0.9114\n",
            "Epoch 5/5\n"
          ],
          "name": "stdout"
        },
        {
          "output_type": "error",
          "ename": "KeyboardInterrupt",
          "evalue": "ignored",
          "traceback": [
            "\u001b[0;31m---------------------------------------------------------------------------\u001b[0m",
            "\u001b[0;31mKeyboardInterrupt\u001b[0m                         Traceback (most recent call last)",
            "\u001b[0;32m<ipython-input-22-cce887dc13f9>\u001b[0m in \u001b[0;36m<module>\u001b[0;34m()\u001b[0m\n\u001b[1;32m     29\u001b[0m   \u001b[0mvalidation\u001b[0m \u001b[0;34m=\u001b[0m \u001b[0mCIFAR10Sequence\u001b[0m\u001b[0;34m(\u001b[0m\u001b[0mx_validation\u001b[0m\u001b[0;34m,\u001b[0m \u001b[0my_validation\u001b[0m\u001b[0;34m,\u001b[0m \u001b[0mbatch_size\u001b[0m\u001b[0;34m)\u001b[0m\u001b[0;34m\u001b[0m\u001b[0;34m\u001b[0m\u001b[0m\n\u001b[1;32m     30\u001b[0m \u001b[0;34m\u001b[0m\u001b[0m\n\u001b[0;32m---> 31\u001b[0;31m   \u001b[0mH\u001b[0m \u001b[0;34m=\u001b[0m \u001b[0mmodel\u001b[0m\u001b[0;34m.\u001b[0m\u001b[0mfit_generator\u001b[0m\u001b[0;34m(\u001b[0m\u001b[0mtrain\u001b[0m\u001b[0;34m,\u001b[0m \u001b[0msteps_per_epoch\u001b[0m\u001b[0;34m=\u001b[0m\u001b[0mlen\u001b[0m\u001b[0;34m(\u001b[0m\u001b[0mtrain\u001b[0m\u001b[0;34m)\u001b[0m\u001b[0;34m,\u001b[0m \u001b[0mepochs\u001b[0m\u001b[0;34m=\u001b[0m\u001b[0mepochs\u001b[0m\u001b[0;34m,\u001b[0m \u001b[0mvalidation_data\u001b[0m\u001b[0;34m=\u001b[0m\u001b[0mvalidation\u001b[0m\u001b[0;34m,\u001b[0m \u001b[0mvalidation_steps\u001b[0m\u001b[0;34m=\u001b[0m\u001b[0mlen\u001b[0m\u001b[0;34m(\u001b[0m\u001b[0mvalidation\u001b[0m\u001b[0;34m)\u001b[0m\u001b[0;34m,\u001b[0m \u001b[0mverbose\u001b[0m\u001b[0;34m=\u001b[0m\u001b[0;36m2\u001b[0m\u001b[0;34m)\u001b[0m\u001b[0;34m\u001b[0m\u001b[0;34m\u001b[0m\u001b[0m\n\u001b[0m\u001b[1;32m     32\u001b[0m   \u001b[0mmodel\u001b[0m\u001b[0;34m.\u001b[0m\u001b[0msave\u001b[0m\u001b[0;34m(\u001b[0m\u001b[0mmodel_path\u001b[0m \u001b[0;34m%\u001b[0m \u001b[0mkey\u001b[0m\u001b[0;34m)\u001b[0m\u001b[0;34m\u001b[0m\u001b[0;34m\u001b[0m\u001b[0m\n\u001b[1;32m     33\u001b[0m   \u001b[0;32mwith\u001b[0m \u001b[0mopen\u001b[0m\u001b[0;34m(\u001b[0m\u001b[0mhistory_path\u001b[0m \u001b[0;34m%\u001b[0m \u001b[0mkey\u001b[0m\u001b[0;34m,\u001b[0m \u001b[0;34m'a'\u001b[0m\u001b[0;34m)\u001b[0m \u001b[0;32mas\u001b[0m \u001b[0mf\u001b[0m\u001b[0;34m:\u001b[0m\u001b[0;34m\u001b[0m\u001b[0;34m\u001b[0m\u001b[0m\n",
            "\u001b[0;32m/usr/local/lib/python3.6/dist-packages/tensorflow_core/python/keras/engine/training.py\u001b[0m in \u001b[0;36mfit_generator\u001b[0;34m(self, generator, steps_per_epoch, epochs, verbose, callbacks, validation_data, validation_steps, validation_freq, class_weight, max_queue_size, workers, use_multiprocessing, shuffle, initial_epoch)\u001b[0m\n\u001b[1;32m   1294\u001b[0m         \u001b[0mshuffle\u001b[0m\u001b[0;34m=\u001b[0m\u001b[0mshuffle\u001b[0m\u001b[0;34m,\u001b[0m\u001b[0;34m\u001b[0m\u001b[0;34m\u001b[0m\u001b[0m\n\u001b[1;32m   1295\u001b[0m         \u001b[0minitial_epoch\u001b[0m\u001b[0;34m=\u001b[0m\u001b[0minitial_epoch\u001b[0m\u001b[0;34m,\u001b[0m\u001b[0;34m\u001b[0m\u001b[0;34m\u001b[0m\u001b[0m\n\u001b[0;32m-> 1296\u001b[0;31m         steps_name='steps_per_epoch')\n\u001b[0m\u001b[1;32m   1297\u001b[0m \u001b[0;34m\u001b[0m\u001b[0m\n\u001b[1;32m   1298\u001b[0m   def evaluate_generator(self,\n",
            "\u001b[0;32m/usr/local/lib/python3.6/dist-packages/tensorflow_core/python/keras/engine/training_generator.py\u001b[0m in \u001b[0;36mmodel_iteration\u001b[0;34m(model, data, steps_per_epoch, epochs, verbose, callbacks, validation_data, validation_steps, validation_freq, class_weight, max_queue_size, workers, use_multiprocessing, shuffle, initial_epoch, mode, batch_size, steps_name, **kwargs)\u001b[0m\n\u001b[1;32m    263\u001b[0m \u001b[0;34m\u001b[0m\u001b[0m\n\u001b[1;32m    264\u001b[0m       \u001b[0mis_deferred\u001b[0m \u001b[0;34m=\u001b[0m \u001b[0;32mnot\u001b[0m \u001b[0mmodel\u001b[0m\u001b[0;34m.\u001b[0m\u001b[0m_is_compiled\u001b[0m\u001b[0;34m\u001b[0m\u001b[0;34m\u001b[0m\u001b[0m\n\u001b[0;32m--> 265\u001b[0;31m       \u001b[0mbatch_outs\u001b[0m \u001b[0;34m=\u001b[0m \u001b[0mbatch_function\u001b[0m\u001b[0;34m(\u001b[0m\u001b[0;34m*\u001b[0m\u001b[0mbatch_data\u001b[0m\u001b[0;34m)\u001b[0m\u001b[0;34m\u001b[0m\u001b[0;34m\u001b[0m\u001b[0m\n\u001b[0m\u001b[1;32m    266\u001b[0m       \u001b[0;32mif\u001b[0m \u001b[0;32mnot\u001b[0m \u001b[0misinstance\u001b[0m\u001b[0;34m(\u001b[0m\u001b[0mbatch_outs\u001b[0m\u001b[0;34m,\u001b[0m \u001b[0mlist\u001b[0m\u001b[0;34m)\u001b[0m\u001b[0;34m:\u001b[0m\u001b[0;34m\u001b[0m\u001b[0;34m\u001b[0m\u001b[0m\n\u001b[1;32m    267\u001b[0m         \u001b[0mbatch_outs\u001b[0m \u001b[0;34m=\u001b[0m \u001b[0;34m[\u001b[0m\u001b[0mbatch_outs\u001b[0m\u001b[0;34m]\u001b[0m\u001b[0;34m\u001b[0m\u001b[0;34m\u001b[0m\u001b[0m\n",
            "\u001b[0;32m/usr/local/lib/python3.6/dist-packages/tensorflow_core/python/keras/engine/training.py\u001b[0m in \u001b[0;36mtrain_on_batch\u001b[0;34m(self, x, y, sample_weight, class_weight, reset_metrics)\u001b[0m\n\u001b[1;32m   1015\u001b[0m       \u001b[0mself\u001b[0m\u001b[0;34m.\u001b[0m\u001b[0m_update_sample_weight_modes\u001b[0m\u001b[0;34m(\u001b[0m\u001b[0msample_weights\u001b[0m\u001b[0;34m=\u001b[0m\u001b[0msample_weights\u001b[0m\u001b[0;34m)\u001b[0m\u001b[0;34m\u001b[0m\u001b[0;34m\u001b[0m\u001b[0m\n\u001b[1;32m   1016\u001b[0m       \u001b[0mself\u001b[0m\u001b[0;34m.\u001b[0m\u001b[0m_make_train_function\u001b[0m\u001b[0;34m(\u001b[0m\u001b[0;34m)\u001b[0m\u001b[0;34m\u001b[0m\u001b[0;34m\u001b[0m\u001b[0m\n\u001b[0;32m-> 1017\u001b[0;31m       \u001b[0moutputs\u001b[0m \u001b[0;34m=\u001b[0m \u001b[0mself\u001b[0m\u001b[0;34m.\u001b[0m\u001b[0mtrain_function\u001b[0m\u001b[0;34m(\u001b[0m\u001b[0mins\u001b[0m\u001b[0;34m)\u001b[0m  \u001b[0;31m# pylint: disable=not-callable\u001b[0m\u001b[0;34m\u001b[0m\u001b[0;34m\u001b[0m\u001b[0m\n\u001b[0m\u001b[1;32m   1018\u001b[0m \u001b[0;34m\u001b[0m\u001b[0m\n\u001b[1;32m   1019\u001b[0m     \u001b[0;32mif\u001b[0m \u001b[0mreset_metrics\u001b[0m\u001b[0;34m:\u001b[0m\u001b[0;34m\u001b[0m\u001b[0;34m\u001b[0m\u001b[0m\n",
            "\u001b[0;32m/usr/local/lib/python3.6/dist-packages/tensorflow_core/python/keras/backend.py\u001b[0m in \u001b[0;36m__call__\u001b[0;34m(self, inputs)\u001b[0m\n\u001b[1;32m   3474\u001b[0m \u001b[0;34m\u001b[0m\u001b[0m\n\u001b[1;32m   3475\u001b[0m     fetched = self._callable_fn(*array_vals,\n\u001b[0;32m-> 3476\u001b[0;31m                                 run_metadata=self.run_metadata)\n\u001b[0m\u001b[1;32m   3477\u001b[0m     \u001b[0mself\u001b[0m\u001b[0;34m.\u001b[0m\u001b[0m_call_fetch_callbacks\u001b[0m\u001b[0;34m(\u001b[0m\u001b[0mfetched\u001b[0m\u001b[0;34m[\u001b[0m\u001b[0;34m-\u001b[0m\u001b[0mlen\u001b[0m\u001b[0;34m(\u001b[0m\u001b[0mself\u001b[0m\u001b[0;34m.\u001b[0m\u001b[0m_fetches\u001b[0m\u001b[0;34m)\u001b[0m\u001b[0;34m:\u001b[0m\u001b[0;34m]\u001b[0m\u001b[0;34m)\u001b[0m\u001b[0;34m\u001b[0m\u001b[0;34m\u001b[0m\u001b[0m\n\u001b[1;32m   3478\u001b[0m     output_structure = nest.pack_sequence_as(\n",
            "\u001b[0;32m/usr/local/lib/python3.6/dist-packages/tensorflow_core/python/client/session.py\u001b[0m in \u001b[0;36m__call__\u001b[0;34m(self, *args, **kwargs)\u001b[0m\n\u001b[1;32m   1470\u001b[0m         ret = tf_session.TF_SessionRunCallable(self._session._session,\n\u001b[1;32m   1471\u001b[0m                                                \u001b[0mself\u001b[0m\u001b[0;34m.\u001b[0m\u001b[0m_handle\u001b[0m\u001b[0;34m,\u001b[0m \u001b[0margs\u001b[0m\u001b[0;34m,\u001b[0m\u001b[0;34m\u001b[0m\u001b[0;34m\u001b[0m\u001b[0m\n\u001b[0;32m-> 1472\u001b[0;31m                                                run_metadata_ptr)\n\u001b[0m\u001b[1;32m   1473\u001b[0m         \u001b[0;32mif\u001b[0m \u001b[0mrun_metadata\u001b[0m\u001b[0;34m:\u001b[0m\u001b[0;34m\u001b[0m\u001b[0;34m\u001b[0m\u001b[0m\n\u001b[1;32m   1474\u001b[0m           \u001b[0mproto_data\u001b[0m \u001b[0;34m=\u001b[0m \u001b[0mtf_session\u001b[0m\u001b[0;34m.\u001b[0m\u001b[0mTF_GetBuffer\u001b[0m\u001b[0;34m(\u001b[0m\u001b[0mrun_metadata_ptr\u001b[0m\u001b[0;34m)\u001b[0m\u001b[0;34m\u001b[0m\u001b[0;34m\u001b[0m\u001b[0m\n",
            "\u001b[0;31mKeyboardInterrupt\u001b[0m: "
          ]
        }
      ]
    },
    {
      "cell_type": "code",
      "metadata": {
        "id": "HT8Sa9U-7izr",
        "colab_type": "code",
        "outputId": "0d860674-948e-4361-c998-8c9b23960217",
        "colab": {
          "base_uri": "https://localhost:8080/",
          "height": 935
        }
      },
      "source": [
        "# 用更小的lr再训练\n",
        "\n",
        "columns = ['location_traffic_convenience',\n",
        "   'location_distance_from_business_district', 'location_easy_to_find',\n",
        "   'service_wait_time', 'service_waiters_attitude',\n",
        "   'service_parking_convenience', 'service_serving_speed', 'price_level',\n",
        "   'price_cost_effective', 'price_discount', 'environment_decoration',\n",
        "   'environment_noise', 'environment_space', 'environment_cleaness',\n",
        "   'dish_portion', 'dish_taste', 'dish_look', 'dish_recommendation',\n",
        "   'others_overall_experience', 'others_willing_to_consume_again']\n",
        "\n",
        "finished_field = ''.strip()\n",
        "columns = columns[columns.index(finished_field) + 1:] if finished_field else columns\n",
        "\n",
        "epochs = 5\n",
        "lr = 0.0005\n",
        "\n",
        "for index, key in enumerate(columns):\n",
        "  model = tf.keras.models.load_model(model_path % key)\n",
        "  model.compile(optimizer=tf.keras.optimizers.SGD(lr),\n",
        "                loss='categorical_crossentropy',\n",
        "                metrics = ['categorical_accuracy', 'AUC', 'Precision', 'Recall'])\n",
        "\n",
        "  y_train = train_ground_truth[key]\n",
        "  y_validation = validation_ground_truth[key]\n",
        "  class_weight = {k: len(y_validation) / v * 15 for k, v in Counter(y_validation).items()}\n",
        "  \n",
        "  train = CIFAR10Sequence(x_train, y_train, batch_size, class_weight)\n",
        "  validation = CIFAR10Sequence(x_validation, y_validation, batch_size)\n",
        "\n",
        "  H = model.fit_generator(train, steps_per_epoch=len(train), epochs=epochs, validation_data=validation, validation_steps=len(validation), verbose=2)\n",
        "  model.save(model_path % key)\n",
        "  with open(history_path % key, 'a') as f:\n",
        "    f.write(json.dumps({k:[float(el) for el in v] for k, v in dict(H.history).items()}) + '\\n')\n",
        "  print(f'#####################################################\\n{key} model saved')"
      ],
      "execution_count": 0,
      "outputs": [
        {
          "output_type": "stream",
          "text": [
            "Epoch 1/5\n",
            "Epoch 1/5\n",
            "13125/13125 - 229s - loss: 0.0949 - categorical_accuracy: 0.6458 - auc_32: 0.8831 - precision_32: 0.9841 - recall_32: 0.5512 - val_loss: 0.5698 - val_categorical_accuracy: 0.7006 - val_auc_32: 0.9381 - val_precision_32: 0.9817 - val_recall_32: 0.6612\n",
            "Epoch 2/5\n",
            "Epoch 1/5\n",
            "13125/13125 - 225s - loss: 0.0947 - categorical_accuracy: 0.6348 - auc_32: 0.8833 - precision_32: 0.9845 - recall_32: 0.5520 - val_loss: 0.5940 - val_categorical_accuracy: 0.6919 - val_auc_32: 0.9332 - val_precision_32: 0.9831 - val_recall_32: 0.6499\n",
            "Epoch 3/5\n",
            "Epoch 1/5\n",
            "13125/13125 - 226s - loss: 0.0947 - categorical_accuracy: 0.6366 - auc_32: 0.8834 - precision_32: 0.9843 - recall_32: 0.5534 - val_loss: 0.5751 - val_categorical_accuracy: 0.6980 - val_auc_32: 0.9366 - val_precision_32: 0.9822 - val_recall_32: 0.6587\n",
            "Epoch 4/5\n",
            "Epoch 1/5\n",
            "13125/13125 - 225s - loss: 0.0947 - categorical_accuracy: 0.6370 - auc_32: 0.8855 - precision_32: 0.9838 - recall_32: 0.5570 - val_loss: 0.5771 - val_categorical_accuracy: 0.6986 - val_auc_32: 0.9379 - val_precision_32: 0.9822 - val_recall_32: 0.6577\n",
            "Epoch 5/5\n",
            "Epoch 1/5\n",
            "13125/13125 - 224s - loss: 0.0942 - categorical_accuracy: 0.6500 - auc_32: 0.8885 - precision_32: 0.9842 - recall_32: 0.5600 - val_loss: 0.5662 - val_categorical_accuracy: 0.7021 - val_auc_32: 0.9399 - val_precision_32: 0.9817 - val_recall_32: 0.6633\n",
            "#####################################################\n",
            "location_traffic_convenience model saved\n",
            "Epoch 1/5\n",
            "Epoch 1/5\n",
            "13125/13125 - 229s - loss: 0.0538 - categorical_accuracy: 0.2246 - auc_36: 0.5959 - precision_36: 0.1673 - recall_36: 0.0156 - val_loss: 1.3106 - val_categorical_accuracy: 0.2571 - val_auc_36: 0.6154 - val_precision_36: 0.0156 - val_recall_36: 7.3333e-04\n",
            "Epoch 2/5\n",
            "Epoch 1/5\n",
            "13125/13125 - 228s - loss: 0.0529 - categorical_accuracy: 0.2283 - auc_36: 0.5999 - precision_36: 0.1704 - recall_36: 0.0162 - val_loss: 1.3103 - val_categorical_accuracy: 0.2709 - val_auc_36: 0.6184 - val_precision_36: 0.0174 - val_recall_36: 9.3333e-04\n",
            "Epoch 3/5\n",
            "Epoch 1/5\n",
            "13125/13125 - 231s - loss: 0.0526 - categorical_accuracy: 0.2251 - auc_36: 0.6014 - precision_36: 0.1689 - recall_36: 0.0168 - val_loss: 1.3141 - val_categorical_accuracy: 0.2573 - val_auc_36: 0.6110 - val_precision_36: 0.0146 - val_recall_36: 8.0000e-04\n",
            "Epoch 4/5\n",
            "Epoch 1/5\n",
            "13125/13125 - 230s - loss: 0.0520 - categorical_accuracy: 0.2259 - auc_36: 0.6002 - precision_36: 0.1662 - recall_36: 0.0172 - val_loss: 1.3041 - val_categorical_accuracy: 0.2667 - val_auc_36: 0.6184 - val_precision_36: 0.0110 - val_recall_36: 5.3333e-04\n",
            "Epoch 5/5\n"
          ],
          "name": "stdout"
        },
        {
          "output_type": "error",
          "ename": "KeyboardInterrupt",
          "evalue": "ignored",
          "traceback": [
            "\u001b[0;31m---------------------------------------------------------------------------\u001b[0m",
            "\u001b[0;31mKeyboardInterrupt\u001b[0m                         Traceback (most recent call last)",
            "\u001b[0;32m<ipython-input-19-967fd81fb0cc>\u001b[0m in \u001b[0;36m<module>\u001b[0;34m()\u001b[0m\n\u001b[1;32m     28\u001b[0m   \u001b[0mvalidation\u001b[0m \u001b[0;34m=\u001b[0m \u001b[0mCIFAR10Sequence\u001b[0m\u001b[0;34m(\u001b[0m\u001b[0mx_validation\u001b[0m\u001b[0;34m,\u001b[0m \u001b[0my_validation\u001b[0m\u001b[0;34m,\u001b[0m \u001b[0mbatch_size\u001b[0m\u001b[0;34m)\u001b[0m\u001b[0;34m\u001b[0m\u001b[0;34m\u001b[0m\u001b[0m\n\u001b[1;32m     29\u001b[0m \u001b[0;34m\u001b[0m\u001b[0m\n\u001b[0;32m---> 30\u001b[0;31m   \u001b[0mH\u001b[0m \u001b[0;34m=\u001b[0m \u001b[0mmodel\u001b[0m\u001b[0;34m.\u001b[0m\u001b[0mfit_generator\u001b[0m\u001b[0;34m(\u001b[0m\u001b[0mtrain\u001b[0m\u001b[0;34m,\u001b[0m \u001b[0msteps_per_epoch\u001b[0m\u001b[0;34m=\u001b[0m\u001b[0mlen\u001b[0m\u001b[0;34m(\u001b[0m\u001b[0mtrain\u001b[0m\u001b[0;34m)\u001b[0m\u001b[0;34m,\u001b[0m \u001b[0mepochs\u001b[0m\u001b[0;34m=\u001b[0m\u001b[0mepochs\u001b[0m\u001b[0;34m,\u001b[0m \u001b[0mvalidation_data\u001b[0m\u001b[0;34m=\u001b[0m\u001b[0mvalidation\u001b[0m\u001b[0;34m,\u001b[0m \u001b[0mvalidation_steps\u001b[0m\u001b[0;34m=\u001b[0m\u001b[0mlen\u001b[0m\u001b[0;34m(\u001b[0m\u001b[0mvalidation\u001b[0m\u001b[0;34m)\u001b[0m\u001b[0;34m,\u001b[0m \u001b[0mverbose\u001b[0m\u001b[0;34m=\u001b[0m\u001b[0;36m2\u001b[0m\u001b[0;34m)\u001b[0m\u001b[0;34m\u001b[0m\u001b[0;34m\u001b[0m\u001b[0m\n\u001b[0m\u001b[1;32m     31\u001b[0m   \u001b[0mmodel\u001b[0m\u001b[0;34m.\u001b[0m\u001b[0msave\u001b[0m\u001b[0;34m(\u001b[0m\u001b[0mmodel_path\u001b[0m \u001b[0;34m%\u001b[0m \u001b[0mkey\u001b[0m\u001b[0;34m)\u001b[0m\u001b[0;34m\u001b[0m\u001b[0;34m\u001b[0m\u001b[0m\n\u001b[1;32m     32\u001b[0m   \u001b[0;32mwith\u001b[0m \u001b[0mopen\u001b[0m\u001b[0;34m(\u001b[0m\u001b[0mhistory_path\u001b[0m \u001b[0;34m%\u001b[0m \u001b[0mkey\u001b[0m\u001b[0;34m,\u001b[0m \u001b[0;34m'a'\u001b[0m\u001b[0;34m)\u001b[0m \u001b[0;32mas\u001b[0m \u001b[0mf\u001b[0m\u001b[0;34m:\u001b[0m\u001b[0;34m\u001b[0m\u001b[0;34m\u001b[0m\u001b[0m\n",
            "\u001b[0;32m/usr/local/lib/python3.6/dist-packages/tensorflow_core/python/keras/engine/training.py\u001b[0m in \u001b[0;36mfit_generator\u001b[0;34m(self, generator, steps_per_epoch, epochs, verbose, callbacks, validation_data, validation_steps, validation_freq, class_weight, max_queue_size, workers, use_multiprocessing, shuffle, initial_epoch)\u001b[0m\n\u001b[1;32m   1294\u001b[0m         \u001b[0mshuffle\u001b[0m\u001b[0;34m=\u001b[0m\u001b[0mshuffle\u001b[0m\u001b[0;34m,\u001b[0m\u001b[0;34m\u001b[0m\u001b[0;34m\u001b[0m\u001b[0m\n\u001b[1;32m   1295\u001b[0m         \u001b[0minitial_epoch\u001b[0m\u001b[0;34m=\u001b[0m\u001b[0minitial_epoch\u001b[0m\u001b[0;34m,\u001b[0m\u001b[0;34m\u001b[0m\u001b[0;34m\u001b[0m\u001b[0m\n\u001b[0;32m-> 1296\u001b[0;31m         steps_name='steps_per_epoch')\n\u001b[0m\u001b[1;32m   1297\u001b[0m \u001b[0;34m\u001b[0m\u001b[0m\n\u001b[1;32m   1298\u001b[0m   def evaluate_generator(self,\n",
            "\u001b[0;32m/usr/local/lib/python3.6/dist-packages/tensorflow_core/python/keras/engine/training_generator.py\u001b[0m in \u001b[0;36mmodel_iteration\u001b[0;34m(model, data, steps_per_epoch, epochs, verbose, callbacks, validation_data, validation_steps, validation_freq, class_weight, max_queue_size, workers, use_multiprocessing, shuffle, initial_epoch, mode, batch_size, steps_name, **kwargs)\u001b[0m\n\u001b[1;32m    263\u001b[0m \u001b[0;34m\u001b[0m\u001b[0m\n\u001b[1;32m    264\u001b[0m       \u001b[0mis_deferred\u001b[0m \u001b[0;34m=\u001b[0m \u001b[0;32mnot\u001b[0m \u001b[0mmodel\u001b[0m\u001b[0;34m.\u001b[0m\u001b[0m_is_compiled\u001b[0m\u001b[0;34m\u001b[0m\u001b[0;34m\u001b[0m\u001b[0m\n\u001b[0;32m--> 265\u001b[0;31m       \u001b[0mbatch_outs\u001b[0m \u001b[0;34m=\u001b[0m \u001b[0mbatch_function\u001b[0m\u001b[0;34m(\u001b[0m\u001b[0;34m*\u001b[0m\u001b[0mbatch_data\u001b[0m\u001b[0;34m)\u001b[0m\u001b[0;34m\u001b[0m\u001b[0;34m\u001b[0m\u001b[0m\n\u001b[0m\u001b[1;32m    266\u001b[0m       \u001b[0;32mif\u001b[0m \u001b[0;32mnot\u001b[0m \u001b[0misinstance\u001b[0m\u001b[0;34m(\u001b[0m\u001b[0mbatch_outs\u001b[0m\u001b[0;34m,\u001b[0m \u001b[0mlist\u001b[0m\u001b[0;34m)\u001b[0m\u001b[0;34m:\u001b[0m\u001b[0;34m\u001b[0m\u001b[0;34m\u001b[0m\u001b[0m\n\u001b[1;32m    267\u001b[0m         \u001b[0mbatch_outs\u001b[0m \u001b[0;34m=\u001b[0m \u001b[0;34m[\u001b[0m\u001b[0mbatch_outs\u001b[0m\u001b[0;34m]\u001b[0m\u001b[0;34m\u001b[0m\u001b[0;34m\u001b[0m\u001b[0m\n",
            "\u001b[0;32m/usr/local/lib/python3.6/dist-packages/tensorflow_core/python/keras/engine/training.py\u001b[0m in \u001b[0;36mtrain_on_batch\u001b[0;34m(self, x, y, sample_weight, class_weight, reset_metrics)\u001b[0m\n\u001b[1;32m   1015\u001b[0m       \u001b[0mself\u001b[0m\u001b[0;34m.\u001b[0m\u001b[0m_update_sample_weight_modes\u001b[0m\u001b[0;34m(\u001b[0m\u001b[0msample_weights\u001b[0m\u001b[0;34m=\u001b[0m\u001b[0msample_weights\u001b[0m\u001b[0;34m)\u001b[0m\u001b[0;34m\u001b[0m\u001b[0;34m\u001b[0m\u001b[0m\n\u001b[1;32m   1016\u001b[0m       \u001b[0mself\u001b[0m\u001b[0;34m.\u001b[0m\u001b[0m_make_train_function\u001b[0m\u001b[0;34m(\u001b[0m\u001b[0;34m)\u001b[0m\u001b[0;34m\u001b[0m\u001b[0;34m\u001b[0m\u001b[0m\n\u001b[0;32m-> 1017\u001b[0;31m       \u001b[0moutputs\u001b[0m \u001b[0;34m=\u001b[0m \u001b[0mself\u001b[0m\u001b[0;34m.\u001b[0m\u001b[0mtrain_function\u001b[0m\u001b[0;34m(\u001b[0m\u001b[0mins\u001b[0m\u001b[0;34m)\u001b[0m  \u001b[0;31m# pylint: disable=not-callable\u001b[0m\u001b[0;34m\u001b[0m\u001b[0;34m\u001b[0m\u001b[0m\n\u001b[0m\u001b[1;32m   1018\u001b[0m \u001b[0;34m\u001b[0m\u001b[0m\n\u001b[1;32m   1019\u001b[0m     \u001b[0;32mif\u001b[0m \u001b[0mreset_metrics\u001b[0m\u001b[0;34m:\u001b[0m\u001b[0;34m\u001b[0m\u001b[0;34m\u001b[0m\u001b[0m\n",
            "\u001b[0;32m/usr/local/lib/python3.6/dist-packages/tensorflow_core/python/keras/backend.py\u001b[0m in \u001b[0;36m__call__\u001b[0;34m(self, inputs)\u001b[0m\n\u001b[1;32m   3474\u001b[0m \u001b[0;34m\u001b[0m\u001b[0m\n\u001b[1;32m   3475\u001b[0m     fetched = self._callable_fn(*array_vals,\n\u001b[0;32m-> 3476\u001b[0;31m                                 run_metadata=self.run_metadata)\n\u001b[0m\u001b[1;32m   3477\u001b[0m     \u001b[0mself\u001b[0m\u001b[0;34m.\u001b[0m\u001b[0m_call_fetch_callbacks\u001b[0m\u001b[0;34m(\u001b[0m\u001b[0mfetched\u001b[0m\u001b[0;34m[\u001b[0m\u001b[0;34m-\u001b[0m\u001b[0mlen\u001b[0m\u001b[0;34m(\u001b[0m\u001b[0mself\u001b[0m\u001b[0;34m.\u001b[0m\u001b[0m_fetches\u001b[0m\u001b[0;34m)\u001b[0m\u001b[0;34m:\u001b[0m\u001b[0;34m]\u001b[0m\u001b[0;34m)\u001b[0m\u001b[0;34m\u001b[0m\u001b[0;34m\u001b[0m\u001b[0m\n\u001b[1;32m   3478\u001b[0m     output_structure = nest.pack_sequence_as(\n",
            "\u001b[0;32m/usr/local/lib/python3.6/dist-packages/tensorflow_core/python/client/session.py\u001b[0m in \u001b[0;36m__call__\u001b[0;34m(self, *args, **kwargs)\u001b[0m\n\u001b[1;32m   1470\u001b[0m         ret = tf_session.TF_SessionRunCallable(self._session._session,\n\u001b[1;32m   1471\u001b[0m                                                \u001b[0mself\u001b[0m\u001b[0;34m.\u001b[0m\u001b[0m_handle\u001b[0m\u001b[0;34m,\u001b[0m \u001b[0margs\u001b[0m\u001b[0;34m,\u001b[0m\u001b[0;34m\u001b[0m\u001b[0;34m\u001b[0m\u001b[0m\n\u001b[0;32m-> 1472\u001b[0;31m                                                run_metadata_ptr)\n\u001b[0m\u001b[1;32m   1473\u001b[0m         \u001b[0;32mif\u001b[0m \u001b[0mrun_metadata\u001b[0m\u001b[0;34m:\u001b[0m\u001b[0;34m\u001b[0m\u001b[0;34m\u001b[0m\u001b[0m\n\u001b[1;32m   1474\u001b[0m           \u001b[0mproto_data\u001b[0m \u001b[0;34m=\u001b[0m \u001b[0mtf_session\u001b[0m\u001b[0;34m.\u001b[0m\u001b[0mTF_GetBuffer\u001b[0m\u001b[0;34m(\u001b[0m\u001b[0mrun_metadata_ptr\u001b[0m\u001b[0;34m)\u001b[0m\u001b[0;34m\u001b[0m\u001b[0;34m\u001b[0m\u001b[0m\n",
            "\u001b[0;31mKeyboardInterrupt\u001b[0m: "
          ]
        }
      ]
    },
    {
      "cell_type": "code",
      "metadata": {
        "id": "eYwteR067i3l",
        "colab_type": "code",
        "colab": {}
      },
      "source": [
        ""
      ],
      "execution_count": 0,
      "outputs": []
    },
    {
      "cell_type": "code",
      "metadata": {
        "id": "DDxcM9-I7i6p",
        "colab_type": "code",
        "colab": {}
      },
      "source": [
        ""
      ],
      "execution_count": 0,
      "outputs": []
    },
    {
      "cell_type": "code",
      "metadata": {
        "id": "wJ-Gytkp7i9l",
        "colab_type": "code",
        "colab": {}
      },
      "source": [
        ""
      ],
      "execution_count": 0,
      "outputs": []
    }
  ]
}