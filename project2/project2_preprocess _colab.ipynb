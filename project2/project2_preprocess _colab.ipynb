{
 "cells": [
  {
   "cell_type": "code",
   "execution_count": 0,
   "metadata": {
    "colab": {
     "base_uri": "https://localhost:8080/",
     "height": 127
    },
    "colab_type": "code",
    "id": "AtZEcJXaQhII",
    "outputId": "47ffd7c7-af21-4511-f401-bc583e3cded3"
   },
   "outputs": [
    {
     "name": "stdout",
     "output_type": "stream",
     "text": [
      "Go to this URL in a browser: https://accounts.google.com/o/oauth2/auth?client_id=947318989803-6bn6qk8qdgf4n4g3pfee6491hc0brc4i.apps.googleusercontent.com&redirect_uri=urn%3aietf%3awg%3aoauth%3a2.0%3aoob&response_type=code&scope=email%20https%3a%2f%2fwww.googleapis.com%2fauth%2fdocs.test%20https%3a%2f%2fwww.googleapis.com%2fauth%2fdrive%20https%3a%2f%2fwww.googleapis.com%2fauth%2fdrive.photos.readonly%20https%3a%2f%2fwww.googleapis.com%2fauth%2fpeopleapi.readonly\n",
      "\n",
      "Enter your authorization code:\n",
      "··········\n",
      "Mounted at /content/drive\n"
     ]
    }
   ],
   "source": [
    "from google.colab import drive\n",
    "drive.mount('/content/drive')"
   ]
  },
  {
   "cell_type": "code",
   "execution_count": 0,
   "metadata": {
    "colab": {},
    "colab_type": "code",
    "id": "KllS9hkBQdXB"
   },
   "outputs": [],
   "source": [
    "import pandas as pd\n",
    "import numpy as np\n",
    "import gensim\n",
    "import jieba, os\n",
    "import matplotlib\n",
    "%matplotlib inline\n",
    "from matplotlib import pyplot as plt"
   ]
  },
  {
   "cell_type": "code",
   "execution_count": 0,
   "metadata": {
    "colab": {},
    "colab_type": "code",
    "id": "-3aMkwafQdXG"
   },
   "outputs": [],
   "source": [
    "path = '/content/drive/My Drive/Colab Notebooks/project2/ai_challenger_sentiment_analysis_trainingset_20180816/sentiment_analysis_trainingset.csv'"
   ]
  },
  {
   "cell_type": "code",
   "execution_count": 0,
   "metadata": {
    "colab": {},
    "colab_type": "code",
    "id": "n0THFvqfQdXI"
   },
   "outputs": [],
   "source": [
    "df = pd.read_csv('/content/drive/My Drive/Colab Notebooks/project2/ai_challenger_sentiment_analysis_trainingset_20180816/sentiment_analysis_trainingset.csv')"
   ]
  },
  {
   "cell_type": "code",
   "execution_count": 4,
   "metadata": {
    "colab": {
     "base_uri": "https://localhost:8080/",
     "height": 73
    },
    "colab_type": "code",
    "id": "3ig43oAMQdXP",
    "outputId": "5a1c6289-dce2-425f-cff2-c111dbd0ee50"
   },
   "outputs": [
    {
     "name": "stderr",
     "output_type": "stream",
     "text": [
      "/usr/local/lib/python3.6/dist-packages/smart_open/smart_open_lib.py:402: UserWarning: This function is deprecated, use smart_open.open instead. See the migration notes for details: https://github.com/RaRe-Technologies/smart_open/blob/master/README.rst#migrating-to-the-new-open-function\n",
      "  'See the migration notes for details: %s' % _MIGRATION_NOTES_URL\n"
     ]
    }
   ],
   "source": [
    "# 这是我去网上下载的cboe的word2vec, 估计比我训练的要好\n",
    "word2vec = gensim.models.KeyedVectors.load_word2vec_format('/content/drive/My Drive/Colab Notebooks/project2/cn.cbow.bin', binary=True, unicode_errors='ignore')"
   ]
  },
  {
   "cell_type": "code",
   "execution_count": 5,
   "metadata": {
    "colab": {
     "base_uri": "https://localhost:8080/",
     "height": 107
    },
    "colab_type": "code",
    "id": "tbBhmFqxonUv",
    "outputId": "74907e92-6adb-422c-ac73-3835998e2134"
   },
   "outputs": [
    {
     "name": "stderr",
     "output_type": "stream",
     "text": [
      "Building prefix dict from the default dictionary ...\n",
      "Loading model from cache /tmp/jieba.cache\n",
      "Loading model cost 0.688 seconds.\n",
      "Prefix dict has been built successfully.\n"
     ]
    },
    {
     "data": {
      "text/plain": [
       "(['霸王', '餐'], ['舍得', '吃'], '舍得', '吃', '霸王', '餐', ['舍得吃', '霸王餐'], ['霸王'])"
      ]
     },
     "execution_count": 5,
     "metadata": {
      "tags": []
     },
     "output_type": "execute_result"
    }
   ],
   "source": [
    "def cut(words):\n",
    "    detailed_words = []\n",
    "    _words = words\n",
    "    while _words:\n",
    "        words = sorted(jieba.lcut_for_search(_words), key=lambda x: len(x))\n",
    "        for w in words:\n",
    "            if _words.startswith(w):\n",
    "                detailed_words.append(w)\n",
    "                _words = _words[len(w):]\n",
    "                break\n",
    "    return detailed_words\n",
    "\n",
    "cut('霸王餐'), cut('舍得吃'), *cut('舍得吃霸王餐'), jieba.lcut('舍得吃霸王餐'), cut('霸王')"
   ]
  },
  {
   "cell_type": "code",
   "execution_count": 0,
   "metadata": {
    "colab": {},
    "colab_type": "code",
    "id": "BQEYIwaGonY_"
   },
   "outputs": [],
   "source": [
    "content_cut = [jieba.lcut(el) for el in df['content']]"
   ]
  },
  {
   "cell_type": "code",
   "execution_count": 0,
   "metadata": {
    "colab": {},
    "colab_type": "code",
    "id": "_HKUnNHdonfj"
   },
   "outputs": [],
   "source": [
    "with open('/content/drive/My Drive/Colab Notebooks/project2/百度停用词表.txt', 'r', -1, 'utf8') as f:\n",
    "    stop_word = f.readlines()\n",
    "stop_word = set([el.rstrip('\\n') for el in stop_word if el.rstrip('\\n') ])"
   ]
  },
  {
   "cell_type": "code",
   "execution_count": 0,
   "metadata": {
    "colab": {},
    "colab_type": "code",
    "id": "Bn9Gol0nonrN"
   },
   "outputs": [],
   "source": [
    "content_cut = [[e for e in el if e not in stop_word] for el in content_cut]"
   ]
  },
  {
   "cell_type": "code",
   "execution_count": 10,
   "metadata": {
    "colab": {
     "base_uri": "https://localhost:8080/",
     "height": 53
    },
    "colab_type": "code",
    "id": "XAKUUGUKonuo",
    "outputId": "7c76ba40-df1e-4779-cfb1-ab37fc04dae2"
   },
   "outputs": [
    {
     "name": "stderr",
     "output_type": "stream",
     "text": [
      "/usr/local/lib/python3.6/dist-packages/ipykernel_launcher.py:5: DeprecationWarning: Call to deprecated `wv` (Attribute will be removed in 4.0.0, use self instead).\n",
      "  \"\"\"\n"
     ]
    }
   ],
   "source": [
    "_content_cut = []\n",
    "for el in content_cut:\n",
    "    sentense = []\n",
    "    for e in el:\n",
    "        if e in word2vec.wv:\n",
    "            sentense.append(e)\n",
    "        else:\n",
    "            sentense.extend(cut(e))\n",
    "    _content_cut.append(sentense)\n",
    "content_cut = _content_cut"
   ]
  },
  {
   "cell_type": "code",
   "execution_count": 0,
   "metadata": {
    "colab": {},
    "colab_type": "code",
    "id": "84apEHg5onx_"
   },
   "outputs": [],
   "source": [
    "length = sorted([len(el) for el in content_cut])"
   ]
  },
  {
   "cell_type": "code",
   "execution_count": 12,
   "metadata": {
    "colab": {
     "base_uri": "https://localhost:8080/",
     "height": 607
    },
    "colab_type": "code",
    "id": "Zhpq5cO7on09",
    "outputId": "c03b5114-f2ae-4427-ca45-eada5af0411f"
   },
   "outputs": [
    {
     "data": {
      "text/plain": [
       "(array([2.0000e+00, 3.8000e+01, 1.8336e+04, 3.5822e+04, 1.8866e+04,\n",
       "        1.0130e+04, 6.4990e+03, 4.4710e+03, 3.2280e+03, 2.0920e+03,\n",
       "        1.3830e+03, 9.7600e+02, 6.9200e+02, 5.3800e+02, 4.0400e+02,\n",
       "        3.0900e+02, 2.4000e+02, 2.0200e+02, 1.4400e+02, 1.3800e+02,\n",
       "        9.5000e+01, 7.9000e+01, 5.5000e+01, 3.7000e+01, 4.4000e+01,\n",
       "        3.1000e+01, 2.9000e+01, 2.7000e+01, 3.1000e+01, 1.7000e+01,\n",
       "        1.7000e+01, 1.2000e+01, 6.0000e+00, 3.0000e+00, 2.0000e+00,\n",
       "        2.0000e+00, 1.0000e+00, 1.0000e+00, 0.0000e+00, 0.0000e+00,\n",
       "        0.0000e+00, 0.0000e+00, 0.0000e+00, 0.0000e+00, 0.0000e+00,\n",
       "        0.0000e+00, 0.0000e+00, 0.0000e+00, 0.0000e+00, 1.0000e+00]),\n",
       " array([   9.  ,   41.62,   74.24,  106.86,  139.48,  172.1 ,  204.72,\n",
       "         237.34,  269.96,  302.58,  335.2 ,  367.82,  400.44,  433.06,\n",
       "         465.68,  498.3 ,  530.92,  563.54,  596.16,  628.78,  661.4 ,\n",
       "         694.02,  726.64,  759.26,  791.88,  824.5 ,  857.12,  889.74,\n",
       "         922.36,  954.98,  987.6 , 1020.22, 1052.84, 1085.46, 1118.08,\n",
       "        1150.7 , 1183.32, 1215.94, 1248.56, 1281.18, 1313.8 , 1346.42,\n",
       "        1379.04, 1411.66, 1444.28, 1476.9 , 1509.52, 1542.14, 1574.76,\n",
       "        1607.38, 1640.  ]),\n",
       " <a list of 50 Patch objects>)"
      ]
     },
     "execution_count": 12,
     "metadata": {
      "tags": []
     },
     "output_type": "execute_result"
    },
    {
     "data": {
      "image/png": "[encoded data removed]",
      "text/plain": [
       "<Figure size 432x288 with 1 Axes>"
      ]
     },
     "metadata": {
      "tags": []
     },
     "output_type": "display_data"
    }
   ],
   "source": [
    "plt.hist(length, bins=50, edgecolor=\"black\", alpha=0.7)"
   ]
  },
  {
   "cell_type": "code",
   "execution_count": 13,
   "metadata": {
    "colab": {
     "base_uri": "https://localhost:8080/",
     "height": 35
    },
    "colab_type": "code",
    "id": "661Y30d1QdX6",
    "outputId": "320a2991-362a-4d88-9501-ca9debc9ea10"
   },
   "outputs": [
    {
     "data": {
      "text/plain": [
       "455"
      ]
     },
     "execution_count": 13,
     "metadata": {
      "tags": []
     },
     "output_type": "execute_result"
    }
   ],
   "source": [
    "length[int(len(length) * 0.98)]"
   ]
  },
  {
   "cell_type": "code",
   "execution_count": 0,
   "metadata": {
    "colab": {},
    "colab_type": "code",
    "id": "yA-mHSSSo9bq"
   },
   "outputs": [],
   "source": [
    "truncate = 450"
   ]
  },
  {
   "cell_type": "code",
   "execution_count": 0,
   "metadata": {
    "colab": {
     "base_uri": "https://localhost:8080/",
     "height": 89
    },
    "colab_type": "code",
    "id": "ykBnr-oZo-x5",
    "outputId": "1b18c1a7-344b-4f1a-9c78-bdcfec263f6f"
   },
   "outputs": [
    {
     "name": "stderr",
     "output_type": "stream",
     "text": [
      "/usr/local/lib/python3.6/dist-packages/ipykernel_launcher.py:1: DeprecationWarning: Call to deprecated `wv` (Attribute will be removed in 4.0.0, use self instead).\n",
      "  \"\"\"Entry point for launching an IPython kernel.\n",
      "/usr/local/lib/python3.6/dist-packages/ipykernel_launcher.py:1: DeprecationWarning: Call to deprecated `wv` (Attribute will be removed in 4.0.0, use self instead).\n",
      "  \"\"\"Entry point for launching an IPython kernel.\n"
     ]
    }
   ],
   "source": [
    "content_cut = [[word2vec.wv[e] for e in el[:truncate] if e in word2vec.wv] for el in content_cut]"
   ]
  },
  {
   "cell_type": "code",
   "execution_count": 0,
   "metadata": {
    "colab": {},
    "colab_type": "code",
    "id": "7RdlDMebo-qc"
   },
   "outputs": [],
   "source": [
    "# add = np.array([0 for _ in range(300)])"
   ]
  },
  {
   "cell_type": "code",
   "execution_count": 0,
   "metadata": {
    "colab": {},
    "colab_type": "code",
    "id": "nlB72Zd8o-nr"
   },
   "outputs": [],
   "source": [
    "# content_cut = [np.array(el) for el in content_cut]\n",
    "# for i, el in enumerate(content_cut):\n",
    "#   content_cut[i] = np.array(el)\n",
    "df['vec'] = content_cut\n"
   ]
  },
  {
   "cell_type": "code",
   "execution_count": 0,
   "metadata": {
    "colab": {},
    "colab_type": "code",
    "id": "SAJXa0cZwjaZ"
   },
   "outputs": [],
   "source": [
    "df['vec'][0]"
   ]
  },
  {
   "cell_type": "code",
   "execution_count": 0,
   "metadata": {
    "colab": {},
    "colab_type": "code",
    "id": "yOULdjRmwjeE"
   },
   "outputs": [],
   "source": []
  },
  {
   "cell_type": "code",
   "execution_count": 0,
   "metadata": {
    "colab": {},
    "colab_type": "code",
    "id": "fgfUztbhwjhM"
   },
   "outputs": [],
   "source": []
  },
  {
   "cell_type": "code",
   "execution_count": 0,
   "metadata": {
    "colab": {},
    "colab_type": "code",
    "id": "SUr78w0go-jy"
   },
   "outputs": [],
   "source": [
    "# import pickle\n",
    "# pickle.dump(df, open('train.pkl', 'wb'))\n",
    "df.to_pickle('/content/drive/My Drive/Colab Notebooks/project2/train.pkl')"
   ]
  },
  {
   "cell_type": "code",
   "execution_count": 0,
   "metadata": {
    "colab": {},
    "colab_type": "code",
    "id": "9lzbiq_IqbI1"
   },
   "outputs": [],
   "source": []
  },
  {
   "cell_type": "code",
   "execution_count": 0,
   "metadata": {
    "colab": {},
    "colab_type": "code",
    "id": "3O6N2fWkqbMf"
   },
   "outputs": [],
   "source": []
  },
  {
   "cell_type": "code",
   "execution_count": 0,
   "metadata": {
    "colab": {},
    "colab_type": "code",
    "id": "rxKi8PowqbP0"
   },
   "outputs": [],
   "source": []
  },
  {
   "cell_type": "code",
   "execution_count": 0,
   "metadata": {
    "colab": {},
    "colab_type": "code",
    "id": "PB0fr0RdqbSr"
   },
   "outputs": [],
   "source": []
  },
  {
   "cell_type": "code",
   "execution_count": 0,
   "metadata": {
    "colab": {},
    "colab_type": "code",
    "id": "seQK9f7Lo-gk"
   },
   "outputs": [],
   "source": [
    "path = '/content/drive/My Drive/Colab Notebooks/project2/ai_challenger_sentiment_analysis_validationset_20180816/sentiment_analysis_validationset.csv'"
   ]
  },
  {
   "cell_type": "code",
   "execution_count": 0,
   "metadata": {
    "colab": {},
    "colab_type": "code",
    "id": "HgMbzrC1o-c2"
   },
   "outputs": [],
   "source": [
    "df = pd.read_csv(path)"
   ]
  },
  {
   "cell_type": "code",
   "execution_count": 0,
   "metadata": {
    "colab": {},
    "colab_type": "code",
    "id": "MRfaOSoCo-Zj"
   },
   "outputs": [],
   "source": [
    "content_cut = [jieba.lcut(el) for el in df['content']]\n",
    "\n",
    "content_cut = [[e for e in el if e not in stop_word] for el in content_cut]\n",
    "\n",
    "_content_cut = []\n",
    "for el in content_cut:\n",
    "    sentense = []\n",
    "    for e in el:\n",
    "        if e in word2vec.wv:\n",
    "            sentense.append(e)\n",
    "        else:\n",
    "            sentense.extend(cut(e))\n",
    "    _content_cut.append(sentense)\n",
    "content_cut = _content_cut\n",
    "\n",
    "content_cut = [[word2vec.wv[e] for e in el[:truncate] if e in word2vec.wv] for el in content_cut]\n",
    "\n",
    "for i, el in enumerate(content_cut):\n",
    "  content_cut[i] = np.array(el)\n",
    "df['vec'] = content_cut\n",
    "\n",
    "df.to_pickle('/content/drive/My Drive/Colab Notebooks/project2/validation.pkl')"
   ]
  },
  {
   "cell_type": "code",
   "execution_count": 0,
   "metadata": {
    "colab": {},
    "colab_type": "code",
    "id": "ip73Q_sxo-V3"
   },
   "outputs": [],
   "source": [
    "df = pd.read_pickle(file_name)"
   ]
  },
  {
   "cell_type": "code",
   "execution_count": 0,
   "metadata": {
    "colab": {},
    "colab_type": "code",
    "id": "eM8m0ZEjo-SB"
   },
   "outputs": [],
   "source": []
  },
  {
   "cell_type": "code",
   "execution_count": 0,
   "metadata": {
    "colab": {},
    "colab_type": "code",
    "id": "lGUFHabEo-Ok"
   },
   "outputs": [],
   "source": []
  },
  {
   "cell_type": "code",
   "execution_count": 0,
   "metadata": {
    "colab": {},
    "colab_type": "code",
    "id": "nLiFnZ95o-LD"
   },
   "outputs": [],
   "source": []
  },
  {
   "cell_type": "code",
   "execution_count": 0,
   "metadata": {
    "colab": {},
    "colab_type": "code",
    "id": "ROVLtpWto-HJ"
   },
   "outputs": [],
   "source": []
  },
  {
   "cell_type": "code",
   "execution_count": 0,
   "metadata": {
    "colab": {},
    "colab_type": "code",
    "id": "vJ8LomSqo-Da"
   },
   "outputs": [],
   "source": []
  },
  {
   "cell_type": "code",
   "execution_count": 0,
   "metadata": {
    "colab": {},
    "colab_type": "code",
    "id": "31PQAK1Vo9_C"
   },
   "outputs": [],
   "source": []
  },
  {
   "cell_type": "code",
   "execution_count": 0,
   "metadata": {
    "colab": {},
    "colab_type": "code",
    "id": "GaD9tHQNo97K"
   },
   "outputs": [],
   "source": []
  },
  {
   "cell_type": "code",
   "execution_count": 0,
   "metadata": {
    "colab": {},
    "colab_type": "code",
    "id": "Cdsmoztbo93Z"
   },
   "outputs": [],
   "source": []
  },
  {
   "cell_type": "code",
   "execution_count": 0,
   "metadata": {
    "colab": {},
    "colab_type": "code",
    "id": "FvRpMdiUo9z6"
   },
   "outputs": [],
   "source": []
  },
  {
   "cell_type": "code",
   "execution_count": 0,
   "metadata": {
    "colab": {},
    "colab_type": "code",
    "id": "U28wvehgo9wG"
   },
   "outputs": [],
   "source": []
  },
  {
   "cell_type": "markdown",
   "metadata": {
    "colab_type": "text",
    "id": "ctnfHATgo9il"
   },
   "source": []
  }
 ],
 "metadata": {
  "colab": {
   "collapsed_sections": [],
   "name": "preprocess.ipynb",
   "provenance": []
  },
  "kernelspec": {
   "display_name": "Python 3",
   "language": "python",
   "name": "python3"
  },
  "language_info": {
   "codemirror_mode": {
    "name": "ipython",
    "version": 3
   },
   "file_extension": ".py",
   "mimetype": "text/x-python",
   "name": "python",
   "nbconvert_exporter": "python",
   "pygments_lexer": "ipython3",
   "version": "3.7.4"
  }
 },
 "nbformat": 4,
 "nbformat_minor": 1
}
